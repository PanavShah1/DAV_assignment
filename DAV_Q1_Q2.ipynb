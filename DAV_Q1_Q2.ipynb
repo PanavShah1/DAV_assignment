{
  "nbformat": 4,
  "nbformat_minor": 0,
  "metadata": {
    "colab": {
      "provenance": [],
      "authorship_tag": "ABX9TyN0f83yBZORYxA9PL6kLgUp",
      "include_colab_link": true
    },
    "kernelspec": {
      "name": "python3",
      "display_name": "Python 3"
    },
    "language_info": {
      "name": "python"
    }
  },
  "cells": [
    {
      "cell_type": "markdown",
      "metadata": {
        "id": "view-in-github",
        "colab_type": "text"
      },
      "source": [
        "<a href=\"https://colab.research.google.com/github/PanavShah1/DAV_assignment/blob/main/DAV_Q1_Q2.ipynb\" target=\"_parent\"><img src=\"https://colab.research.google.com/assets/colab-badge.svg\" alt=\"Open In Colab\"/></a>"
      ]
    },
    {
      "cell_type": "markdown",
      "source": [
        "## DAV Assignment Q1 and Q2\n",
        "You are the head of the sales and marketing division of “The Renewables”\n",
        ", a\n",
        "company that sells renewable energy solutions to people. Recognizing India's\n",
        "vast potential for renewable energy growth, you decide to extend your\n",
        "operations into this dynamic market. To make informed decisions, you need to\n",
        "understand the country's energy landscape, including its actual and installed\n",
        "energy capacities.\n",
        "For this you turned to the NDAP for comprehensive data on India's energy\n",
        "sector,and obtained this dataset from there:\n"
      ],
      "metadata": {
        "id": "jxOeliMormAU"
      }
    },
    {
      "cell_type": "markdown",
      "source": [
        "## Q1: Ask 10 reasonably involved questions and try to answer them by analyzing the Dataset.\n"
      ],
      "metadata": {
        "id": "rZ9TZNvlqrEt"
      }
    },
    {
      "cell_type": "code",
      "execution_count": null,
      "metadata": {
        "colab": {
          "base_uri": "https://localhost:8080/"
        },
        "id": "T0X5IWblnGGG",
        "outputId": "9d083192-86c1-4f18-aa80-6fcff0f9f3a8"
      },
      "outputs": [
        {
          "output_type": "stream",
          "name": "stdout",
          "text": [
            "csv file downloaded\n"
          ]
        }
      ],
      "source": [
        "# Import libraries\n",
        "import requests\n",
        "from pathlib import Path\n",
        "import zipfile\n",
        "import os\n",
        "\n",
        "\n",
        "request = requests.get(\"https://github.com/PanavShah1/DAV_assignment/blob/main/Power_Generation_Dataset.csv?raw=true\")\n",
        "with open(\"Power_Generation_Dataset.csv\", \"wb\") as f:\n",
        "  f.write(request.content)\n",
        "  print(\"csv file downloaded\")\n"
      ]
    },
    {
      "cell_type": "code",
      "source": [
        "import numpy as np\n",
        "import pandas as pd\n",
        "import matplotlib.pyplot as plt\n",
        "\n",
        "df = pd.read_csv(\"Power_Generation_Dataset.csv\")\n",
        "df.head(5)"
      ],
      "metadata": {
        "colab": {
          "base_uri": "https://localhost:8080/",
          "height": 623
        },
        "id": "Gbyc1H-ao-Yf",
        "outputId": "5e7e5190-c35a-440a-e7a3-c57c375b76c2"
      },
      "execution_count": null,
      "outputs": [
        {
          "output_type": "execute_result",
          "data": {
            "text/plain": [
              "   ROWID Country  State LGD Code             State  Actual energy generated  \\\n",
              "0      1   India              22      Chhattisgarh                      0.0   \n",
              "1      2   India               2  Himachal Pradesh                      0.0   \n",
              "2      3   India              27       Maharashtra                      0.0   \n",
              "3      4   India               9     Uttar Pradesh                      0.0   \n",
              "4      5   India              22      Chhattisgarh                      0.0   \n",
              "\n",
              "  Category of Plant Type of fuel used  Installed Capacity  \\\n",
              "0           THERMAL              COAL                 0.0   \n",
              "1             HYDRO             HYDRO                 0.0   \n",
              "2           THERMAL              COAL                 0.0   \n",
              "3           THERMAL              COAL                 0.0   \n",
              "4           THERMAL              COAL                 0.0   \n",
              "\n",
              "   Generation Programme is prepared by CEA    Region Region ID  \\\n",
              "0                                      0.0   WESTERN      REG2   \n",
              "1                                      0.0  NORTHERN      REG1   \n",
              "2                                      0.0   WESTERN      REG2   \n",
              "3                                      0.0  NORTHERN      REG1   \n",
              "4                                      0.0   WESTERN      REG2   \n",
              "\n",
              "  Sector of power plant Name of coal company          Station Name  \\\n",
              "0           PRIVATE IPP                 WPCL          AKALTARA TPS   \n",
              "1           PRIVATE IPP                ADHPL  ALLAIN DUHANGAN  HPS   \n",
              "2           PRIVATE IPP                 IBPL         AMARAVATI TPS   \n",
              "3           PRIVATE IPP                LAPPL          ANPARA C TPS   \n",
              "4           PRIVATE IPP                KWPCL       AVANTHA BHANDAR   \n",
              "\n",
              "  SourceMonth  SourceYear  YearCode                             Year  \\\n",
              "0  Apr - 2008        2008      2008  Calendar Year (Jan - Dec), 2008   \n",
              "1  Apr - 2008        2008      2008  Calendar Year (Jan - Dec), 2008   \n",
              "2  Apr - 2008        2008      2008  Calendar Year (Jan - Dec), 2008   \n",
              "3  Apr - 2008        2008      2008  Calendar Year (Jan - Dec), 2008   \n",
              "4  Apr - 2008        2008      2008  Calendar Year (Jan - Dec), 2008   \n",
              "\n",
              "   MonthCode        Month  \n",
              "0     200804  April, 2008  \n",
              "1     200804  April, 2008  \n",
              "2     200804  April, 2008  \n",
              "3     200804  April, 2008  \n",
              "4     200804  April, 2008  "
            ],
            "text/html": [
              "\n",
              "  <div id=\"df-db89342d-9969-4f05-95bc-3503e7137e07\" class=\"colab-df-container\">\n",
              "    <div>\n",
              "<style scoped>\n",
              "    .dataframe tbody tr th:only-of-type {\n",
              "        vertical-align: middle;\n",
              "    }\n",
              "\n",
              "    .dataframe tbody tr th {\n",
              "        vertical-align: top;\n",
              "    }\n",
              "\n",
              "    .dataframe thead th {\n",
              "        text-align: right;\n",
              "    }\n",
              "</style>\n",
              "<table border=\"1\" class=\"dataframe\">\n",
              "  <thead>\n",
              "    <tr style=\"text-align: right;\">\n",
              "      <th></th>\n",
              "      <th>ROWID</th>\n",
              "      <th>Country</th>\n",
              "      <th>State LGD Code</th>\n",
              "      <th>State</th>\n",
              "      <th>Actual energy generated</th>\n",
              "      <th>Category of Plant</th>\n",
              "      <th>Type of fuel used</th>\n",
              "      <th>Installed Capacity</th>\n",
              "      <th>Generation Programme is prepared by CEA</th>\n",
              "      <th>Region</th>\n",
              "      <th>Region ID</th>\n",
              "      <th>Sector of power plant</th>\n",
              "      <th>Name of coal company</th>\n",
              "      <th>Station Name</th>\n",
              "      <th>SourceMonth</th>\n",
              "      <th>SourceYear</th>\n",
              "      <th>YearCode</th>\n",
              "      <th>Year</th>\n",
              "      <th>MonthCode</th>\n",
              "      <th>Month</th>\n",
              "    </tr>\n",
              "  </thead>\n",
              "  <tbody>\n",
              "    <tr>\n",
              "      <th>0</th>\n",
              "      <td>1</td>\n",
              "      <td>India</td>\n",
              "      <td>22</td>\n",
              "      <td>Chhattisgarh</td>\n",
              "      <td>0.0</td>\n",
              "      <td>THERMAL</td>\n",
              "      <td>COAL</td>\n",
              "      <td>0.0</td>\n",
              "      <td>0.0</td>\n",
              "      <td>WESTERN</td>\n",
              "      <td>REG2</td>\n",
              "      <td>PRIVATE IPP</td>\n",
              "      <td>WPCL</td>\n",
              "      <td>AKALTARA TPS</td>\n",
              "      <td>Apr - 2008</td>\n",
              "      <td>2008</td>\n",
              "      <td>2008</td>\n",
              "      <td>Calendar Year (Jan - Dec), 2008</td>\n",
              "      <td>200804</td>\n",
              "      <td>April, 2008</td>\n",
              "    </tr>\n",
              "    <tr>\n",
              "      <th>1</th>\n",
              "      <td>2</td>\n",
              "      <td>India</td>\n",
              "      <td>2</td>\n",
              "      <td>Himachal Pradesh</td>\n",
              "      <td>0.0</td>\n",
              "      <td>HYDRO</td>\n",
              "      <td>HYDRO</td>\n",
              "      <td>0.0</td>\n",
              "      <td>0.0</td>\n",
              "      <td>NORTHERN</td>\n",
              "      <td>REG1</td>\n",
              "      <td>PRIVATE IPP</td>\n",
              "      <td>ADHPL</td>\n",
              "      <td>ALLAIN DUHANGAN  HPS</td>\n",
              "      <td>Apr - 2008</td>\n",
              "      <td>2008</td>\n",
              "      <td>2008</td>\n",
              "      <td>Calendar Year (Jan - Dec), 2008</td>\n",
              "      <td>200804</td>\n",
              "      <td>April, 2008</td>\n",
              "    </tr>\n",
              "    <tr>\n",
              "      <th>2</th>\n",
              "      <td>3</td>\n",
              "      <td>India</td>\n",
              "      <td>27</td>\n",
              "      <td>Maharashtra</td>\n",
              "      <td>0.0</td>\n",
              "      <td>THERMAL</td>\n",
              "      <td>COAL</td>\n",
              "      <td>0.0</td>\n",
              "      <td>0.0</td>\n",
              "      <td>WESTERN</td>\n",
              "      <td>REG2</td>\n",
              "      <td>PRIVATE IPP</td>\n",
              "      <td>IBPL</td>\n",
              "      <td>AMARAVATI TPS</td>\n",
              "      <td>Apr - 2008</td>\n",
              "      <td>2008</td>\n",
              "      <td>2008</td>\n",
              "      <td>Calendar Year (Jan - Dec), 2008</td>\n",
              "      <td>200804</td>\n",
              "      <td>April, 2008</td>\n",
              "    </tr>\n",
              "    <tr>\n",
              "      <th>3</th>\n",
              "      <td>4</td>\n",
              "      <td>India</td>\n",
              "      <td>9</td>\n",
              "      <td>Uttar Pradesh</td>\n",
              "      <td>0.0</td>\n",
              "      <td>THERMAL</td>\n",
              "      <td>COAL</td>\n",
              "      <td>0.0</td>\n",
              "      <td>0.0</td>\n",
              "      <td>NORTHERN</td>\n",
              "      <td>REG1</td>\n",
              "      <td>PRIVATE IPP</td>\n",
              "      <td>LAPPL</td>\n",
              "      <td>ANPARA C TPS</td>\n",
              "      <td>Apr - 2008</td>\n",
              "      <td>2008</td>\n",
              "      <td>2008</td>\n",
              "      <td>Calendar Year (Jan - Dec), 2008</td>\n",
              "      <td>200804</td>\n",
              "      <td>April, 2008</td>\n",
              "    </tr>\n",
              "    <tr>\n",
              "      <th>4</th>\n",
              "      <td>5</td>\n",
              "      <td>India</td>\n",
              "      <td>22</td>\n",
              "      <td>Chhattisgarh</td>\n",
              "      <td>0.0</td>\n",
              "      <td>THERMAL</td>\n",
              "      <td>COAL</td>\n",
              "      <td>0.0</td>\n",
              "      <td>0.0</td>\n",
              "      <td>WESTERN</td>\n",
              "      <td>REG2</td>\n",
              "      <td>PRIVATE IPP</td>\n",
              "      <td>KWPCL</td>\n",
              "      <td>AVANTHA BHANDAR</td>\n",
              "      <td>Apr - 2008</td>\n",
              "      <td>2008</td>\n",
              "      <td>2008</td>\n",
              "      <td>Calendar Year (Jan - Dec), 2008</td>\n",
              "      <td>200804</td>\n",
              "      <td>April, 2008</td>\n",
              "    </tr>\n",
              "  </tbody>\n",
              "</table>\n",
              "</div>\n",
              "    <div class=\"colab-df-buttons\">\n",
              "\n",
              "  <div class=\"colab-df-container\">\n",
              "    <button class=\"colab-df-convert\" onclick=\"convertToInteractive('df-db89342d-9969-4f05-95bc-3503e7137e07')\"\n",
              "            title=\"Convert this dataframe to an interactive table.\"\n",
              "            style=\"display:none;\">\n",
              "\n",
              "  <svg xmlns=\"http://www.w3.org/2000/svg\" height=\"24px\" viewBox=\"0 -960 960 960\">\n",
              "    <path d=\"M120-120v-720h720v720H120Zm60-500h600v-160H180v160Zm220 220h160v-160H400v160Zm0 220h160v-160H400v160ZM180-400h160v-160H180v160Zm440 0h160v-160H620v160ZM180-180h160v-160H180v160Zm440 0h160v-160H620v160Z\"/>\n",
              "  </svg>\n",
              "    </button>\n",
              "\n",
              "  <style>\n",
              "    .colab-df-container {\n",
              "      display:flex;\n",
              "      gap: 12px;\n",
              "    }\n",
              "\n",
              "    .colab-df-convert {\n",
              "      background-color: #E8F0FE;\n",
              "      border: none;\n",
              "      border-radius: 50%;\n",
              "      cursor: pointer;\n",
              "      display: none;\n",
              "      fill: #1967D2;\n",
              "      height: 32px;\n",
              "      padding: 0 0 0 0;\n",
              "      width: 32px;\n",
              "    }\n",
              "\n",
              "    .colab-df-convert:hover {\n",
              "      background-color: #E2EBFA;\n",
              "      box-shadow: 0px 1px 2px rgba(60, 64, 67, 0.3), 0px 1px 3px 1px rgba(60, 64, 67, 0.15);\n",
              "      fill: #174EA6;\n",
              "    }\n",
              "\n",
              "    .colab-df-buttons div {\n",
              "      margin-bottom: 4px;\n",
              "    }\n",
              "\n",
              "    [theme=dark] .colab-df-convert {\n",
              "      background-color: #3B4455;\n",
              "      fill: #D2E3FC;\n",
              "    }\n",
              "\n",
              "    [theme=dark] .colab-df-convert:hover {\n",
              "      background-color: #434B5C;\n",
              "      box-shadow: 0px 1px 3px 1px rgba(0, 0, 0, 0.15);\n",
              "      filter: drop-shadow(0px 1px 2px rgba(0, 0, 0, 0.3));\n",
              "      fill: #FFFFFF;\n",
              "    }\n",
              "  </style>\n",
              "\n",
              "    <script>\n",
              "      const buttonEl =\n",
              "        document.querySelector('#df-db89342d-9969-4f05-95bc-3503e7137e07 button.colab-df-convert');\n",
              "      buttonEl.style.display =\n",
              "        google.colab.kernel.accessAllowed ? 'block' : 'none';\n",
              "\n",
              "      async function convertToInteractive(key) {\n",
              "        const element = document.querySelector('#df-db89342d-9969-4f05-95bc-3503e7137e07');\n",
              "        const dataTable =\n",
              "          await google.colab.kernel.invokeFunction('convertToInteractive',\n",
              "                                                    [key], {});\n",
              "        if (!dataTable) return;\n",
              "\n",
              "        const docLinkHtml = 'Like what you see? Visit the ' +\n",
              "          '<a target=\"_blank\" href=https://colab.research.google.com/notebooks/data_table.ipynb>data table notebook</a>'\n",
              "          + ' to learn more about interactive tables.';\n",
              "        element.innerHTML = '';\n",
              "        dataTable['output_type'] = 'display_data';\n",
              "        await google.colab.output.renderOutput(dataTable, element);\n",
              "        const docLink = document.createElement('div');\n",
              "        docLink.innerHTML = docLinkHtml;\n",
              "        element.appendChild(docLink);\n",
              "      }\n",
              "    </script>\n",
              "  </div>\n",
              "\n",
              "\n",
              "<div id=\"df-d19bae89-4215-44cb-9207-a3657cb92f88\">\n",
              "  <button class=\"colab-df-quickchart\" onclick=\"quickchart('df-d19bae89-4215-44cb-9207-a3657cb92f88')\"\n",
              "            title=\"Suggest charts\"\n",
              "            style=\"display:none;\">\n",
              "\n",
              "<svg xmlns=\"http://www.w3.org/2000/svg\" height=\"24px\"viewBox=\"0 0 24 24\"\n",
              "     width=\"24px\">\n",
              "    <g>\n",
              "        <path d=\"M19 3H5c-1.1 0-2 .9-2 2v14c0 1.1.9 2 2 2h14c1.1 0 2-.9 2-2V5c0-1.1-.9-2-2-2zM9 17H7v-7h2v7zm4 0h-2V7h2v10zm4 0h-2v-4h2v4z\"/>\n",
              "    </g>\n",
              "</svg>\n",
              "  </button>\n",
              "\n",
              "<style>\n",
              "  .colab-df-quickchart {\n",
              "      --bg-color: #E8F0FE;\n",
              "      --fill-color: #1967D2;\n",
              "      --hover-bg-color: #E2EBFA;\n",
              "      --hover-fill-color: #174EA6;\n",
              "      --disabled-fill-color: #AAA;\n",
              "      --disabled-bg-color: #DDD;\n",
              "  }\n",
              "\n",
              "  [theme=dark] .colab-df-quickchart {\n",
              "      --bg-color: #3B4455;\n",
              "      --fill-color: #D2E3FC;\n",
              "      --hover-bg-color: #434B5C;\n",
              "      --hover-fill-color: #FFFFFF;\n",
              "      --disabled-bg-color: #3B4455;\n",
              "      --disabled-fill-color: #666;\n",
              "  }\n",
              "\n",
              "  .colab-df-quickchart {\n",
              "    background-color: var(--bg-color);\n",
              "    border: none;\n",
              "    border-radius: 50%;\n",
              "    cursor: pointer;\n",
              "    display: none;\n",
              "    fill: var(--fill-color);\n",
              "    height: 32px;\n",
              "    padding: 0;\n",
              "    width: 32px;\n",
              "  }\n",
              "\n",
              "  .colab-df-quickchart:hover {\n",
              "    background-color: var(--hover-bg-color);\n",
              "    box-shadow: 0 1px 2px rgba(60, 64, 67, 0.3), 0 1px 3px 1px rgba(60, 64, 67, 0.15);\n",
              "    fill: var(--button-hover-fill-color);\n",
              "  }\n",
              "\n",
              "  .colab-df-quickchart-complete:disabled,\n",
              "  .colab-df-quickchart-complete:disabled:hover {\n",
              "    background-color: var(--disabled-bg-color);\n",
              "    fill: var(--disabled-fill-color);\n",
              "    box-shadow: none;\n",
              "  }\n",
              "\n",
              "  .colab-df-spinner {\n",
              "    border: 2px solid var(--fill-color);\n",
              "    border-color: transparent;\n",
              "    border-bottom-color: var(--fill-color);\n",
              "    animation:\n",
              "      spin 1s steps(1) infinite;\n",
              "  }\n",
              "\n",
              "  @keyframes spin {\n",
              "    0% {\n",
              "      border-color: transparent;\n",
              "      border-bottom-color: var(--fill-color);\n",
              "      border-left-color: var(--fill-color);\n",
              "    }\n",
              "    20% {\n",
              "      border-color: transparent;\n",
              "      border-left-color: var(--fill-color);\n",
              "      border-top-color: var(--fill-color);\n",
              "    }\n",
              "    30% {\n",
              "      border-color: transparent;\n",
              "      border-left-color: var(--fill-color);\n",
              "      border-top-color: var(--fill-color);\n",
              "      border-right-color: var(--fill-color);\n",
              "    }\n",
              "    40% {\n",
              "      border-color: transparent;\n",
              "      border-right-color: var(--fill-color);\n",
              "      border-top-color: var(--fill-color);\n",
              "    }\n",
              "    60% {\n",
              "      border-color: transparent;\n",
              "      border-right-color: var(--fill-color);\n",
              "    }\n",
              "    80% {\n",
              "      border-color: transparent;\n",
              "      border-right-color: var(--fill-color);\n",
              "      border-bottom-color: var(--fill-color);\n",
              "    }\n",
              "    90% {\n",
              "      border-color: transparent;\n",
              "      border-bottom-color: var(--fill-color);\n",
              "    }\n",
              "  }\n",
              "</style>\n",
              "\n",
              "  <script>\n",
              "    async function quickchart(key) {\n",
              "      const quickchartButtonEl =\n",
              "        document.querySelector('#' + key + ' button');\n",
              "      quickchartButtonEl.disabled = true;  // To prevent multiple clicks.\n",
              "      quickchartButtonEl.classList.add('colab-df-spinner');\n",
              "      try {\n",
              "        const charts = await google.colab.kernel.invokeFunction(\n",
              "            'suggestCharts', [key], {});\n",
              "      } catch (error) {\n",
              "        console.error('Error during call to suggestCharts:', error);\n",
              "      }\n",
              "      quickchartButtonEl.classList.remove('colab-df-spinner');\n",
              "      quickchartButtonEl.classList.add('colab-df-quickchart-complete');\n",
              "    }\n",
              "    (() => {\n",
              "      let quickchartButtonEl =\n",
              "        document.querySelector('#df-d19bae89-4215-44cb-9207-a3657cb92f88 button');\n",
              "      quickchartButtonEl.style.display =\n",
              "        google.colab.kernel.accessAllowed ? 'block' : 'none';\n",
              "    })();\n",
              "  </script>\n",
              "</div>\n",
              "\n",
              "    </div>\n",
              "  </div>\n"
            ],
            "application/vnd.google.colaboratory.intrinsic+json": {
              "type": "dataframe",
              "variable_name": "df",
              "summary": "{\n  \"name\": \"df\",\n  \"rows\": 46675,\n  \"fields\": [\n    {\n      \"column\": \"ROWID\",\n      \"properties\": {\n        \"dtype\": \"number\",\n        \"std\": 13474,\n        \"min\": 1,\n        \"max\": 46675,\n        \"num_unique_values\": 46675,\n        \"samples\": [\n          1220,\n          23031,\n          42351\n        ],\n        \"semantic_type\": \"\",\n        \"description\": \"\"\n      }\n    },\n    {\n      \"column\": \"Country\",\n      \"properties\": {\n        \"dtype\": \"category\",\n        \"num_unique_values\": 1,\n        \"samples\": [\n          \"India\"\n        ],\n        \"semantic_type\": \"\",\n        \"description\": \"\"\n      }\n    },\n    {\n      \"column\": \"State LGD Code\",\n      \"properties\": {\n        \"dtype\": \"number\",\n        \"std\": 10,\n        \"min\": 1,\n        \"max\": 37,\n        \"num_unique_values\": 32,\n        \"samples\": [\n          35\n        ],\n        \"semantic_type\": \"\",\n        \"description\": \"\"\n      }\n    },\n    {\n      \"column\": \"State\",\n      \"properties\": {\n        \"dtype\": \"category\",\n        \"num_unique_values\": 33,\n        \"samples\": [\n          \"New Delhi\"\n        ],\n        \"semantic_type\": \"\",\n        \"description\": \"\"\n      }\n    },\n    {\n      \"column\": \"Actual energy generated\",\n      \"properties\": {\n        \"dtype\": \"number\",\n        \"std\": 2846.56783219682,\n        \"min\": 0.0,\n        \"max\": 218886.0,\n        \"num_unique_values\": 21437,\n        \"samples\": [\n          36.77\n        ],\n        \"semantic_type\": \"\",\n        \"description\": \"\"\n      }\n    },\n    {\n      \"column\": \"Category of Plant\",\n      \"properties\": {\n        \"dtype\": \"category\",\n        \"num_unique_values\": 3,\n        \"samples\": [\n          \"THERMAL\"\n        ],\n        \"semantic_type\": \"\",\n        \"description\": \"\"\n      }\n    },\n    {\n      \"column\": \"Type of fuel used\",\n      \"properties\": {\n        \"dtype\": \"category\",\n        \"num_unique_values\": 11,\n        \"samples\": [\n          \"MULTI FUEL\"\n        ],\n        \"semantic_type\": \"\",\n        \"description\": \"\"\n      }\n    },\n    {\n      \"column\": \"Installed Capacity\",\n      \"properties\": {\n        \"dtype\": \"number\",\n        \"std\": 784.8401476372209,\n        \"min\": 0.0,\n        \"max\": 106001.0,\n        \"num_unique_values\": 391,\n        \"samples\": [\n          30.6\n        ],\n        \"semantic_type\": \"\",\n        \"description\": \"\"\n      }\n    },\n    {\n      \"column\": \"Generation Programme is prepared by CEA\",\n      \"properties\": {\n        \"dtype\": \"number\",\n        \"std\": 320.9990999569934,\n        \"min\": 0.0,\n        \"max\": 2877.0,\n        \"num_unique_values\": 3095,\n        \"samples\": [\n          675.0\n        ],\n        \"semantic_type\": \"\",\n        \"description\": \"\"\n      }\n    },\n    {\n      \"column\": \"Region\",\n      \"properties\": {\n        \"dtype\": \"category\",\n        \"num_unique_values\": 5,\n        \"samples\": [\n          \"NORTHERN\"\n        ],\n        \"semantic_type\": \"\",\n        \"description\": \"\"\n      }\n    },\n    {\n      \"column\": \"Region ID\",\n      \"properties\": {\n        \"dtype\": \"category\",\n        \"num_unique_values\": 5,\n        \"samples\": [\n          \"REG1\"\n        ],\n        \"semantic_type\": \"\",\n        \"description\": \"\"\n      }\n    },\n    {\n      \"column\": \"Sector of power plant\",\n      \"properties\": {\n        \"dtype\": \"category\",\n        \"num_unique_values\": 5,\n        \"samples\": [\n          \"STATE\"\n        ],\n        \"semantic_type\": \"\",\n        \"description\": \"\"\n      }\n    },\n    {\n      \"column\": \"Name of coal company\",\n      \"properties\": {\n        \"dtype\": \"category\",\n        \"num_unique_values\": 209,\n        \"samples\": [\n          \"APCPL\"\n        ],\n        \"semantic_type\": \"\",\n        \"description\": \"\"\n      }\n    },\n    {\n      \"column\": \"Station Name\",\n      \"properties\": {\n        \"dtype\": \"category\",\n        \"num_unique_values\": 580,\n        \"samples\": [\n          \"KAMENG HPS\"\n        ],\n        \"semantic_type\": \"\",\n        \"description\": \"\"\n      }\n    },\n    {\n      \"column\": \"SourceMonth\",\n      \"properties\": {\n        \"dtype\": \"object\",\n        \"num_unique_values\": 107,\n        \"samples\": [\n          \"May - 2013\"\n        ],\n        \"semantic_type\": \"\",\n        \"description\": \"\"\n      }\n    },\n    {\n      \"column\": \"SourceYear\",\n      \"properties\": {\n        \"dtype\": \"number\",\n        \"std\": 2,\n        \"min\": 2008,\n        \"max\": 2017,\n        \"num_unique_values\": 10,\n        \"samples\": [\n          2016\n        ],\n        \"semantic_type\": \"\",\n        \"description\": \"\"\n      }\n    },\n    {\n      \"column\": \"YearCode\",\n      \"properties\": {\n        \"dtype\": \"number\",\n        \"std\": 2,\n        \"min\": 2008,\n        \"max\": 2017,\n        \"num_unique_values\": 10,\n        \"samples\": [\n          2016\n        ],\n        \"semantic_type\": \"\",\n        \"description\": \"\"\n      }\n    },\n    {\n      \"column\": \"Year\",\n      \"properties\": {\n        \"dtype\": \"category\",\n        \"num_unique_values\": 10,\n        \"samples\": [\n          \"Calendar Year (Jan - Dec), 2016\"\n        ],\n        \"semantic_type\": \"\",\n        \"description\": \"\"\n      }\n    },\n    {\n      \"column\": \"MonthCode\",\n      \"properties\": {\n        \"dtype\": \"number\",\n        \"std\": 262,\n        \"min\": 200804,\n        \"max\": 201703,\n        \"num_unique_values\": 107,\n        \"samples\": [\n          201305\n        ],\n        \"semantic_type\": \"\",\n        \"description\": \"\"\n      }\n    },\n    {\n      \"column\": \"Month\",\n      \"properties\": {\n        \"dtype\": \"object\",\n        \"num_unique_values\": 107,\n        \"samples\": [\n          \"May, 2013\"\n        ],\n        \"semantic_type\": \"\",\n        \"description\": \"\"\n      }\n    }\n  ]\n}"
            }
          },
          "metadata": {},
          "execution_count": 2
        }
      ]
    },
    {
      "cell_type": "code",
      "source": [
        "len(df)"
      ],
      "metadata": {
        "colab": {
          "base_uri": "https://localhost:8080/"
        },
        "id": "VDojmiDptYvF",
        "outputId": "7832b31e-7b30-468d-d25f-256f23f441ae"
      },
      "execution_count": null,
      "outputs": [
        {
          "output_type": "execute_result",
          "data": {
            "text/plain": [
              "46675"
            ]
          },
          "metadata": {},
          "execution_count": 3
        }
      ]
    },
    {
      "cell_type": "code",
      "source": [
        "states = df['State'].unique()\n",
        "states"
      ],
      "metadata": {
        "colab": {
          "base_uri": "https://localhost:8080/"
        },
        "id": "8Nge98qIrJ2W",
        "outputId": "7606481d-fd17-418d-a56f-c7c207d24c28"
      },
      "execution_count": null,
      "outputs": [
        {
          "output_type": "execute_result",
          "data": {
            "text/plain": [
              "array(['Chhattisgarh', 'Himachal Pradesh', 'Maharashtra', 'Uttar Pradesh',\n",
              "       'Jammu Kashmir', 'Bihar', 'Rajasthan', 'Tamil Nadu',\n",
              "       'Madhya Pradesh', 'Assam', 'Sikkim', 'Odisha', 'West Bengal',\n",
              "       'Andhra Pradesh', 'Punjab', 'Gujarat', 'Haryana', 'Telangana',\n",
              "       'Jharkhand', 'Uttarakhand', 'Kerala', 'Meghalaya', 'Ladakh',\n",
              "       'Delhi', 'Karnataka', 'Tripura', 'Arunachal Pradesh', 'Puducherry',\n",
              "       'Manipur', 'Andaman And Nicobar Islands', 'Goa', 'New Delhi',\n",
              "       'Mizoram'], dtype=object)"
            ]
          },
          "metadata": {},
          "execution_count": 4
        }
      ]
    },
    {
      "cell_type": "code",
      "source": [
        "plants = df['Category of Plant'].unique()\n",
        "plants"
      ],
      "metadata": {
        "colab": {
          "base_uri": "https://localhost:8080/"
        },
        "id": "0sqU8SU0thTQ",
        "outputId": "5df7560a-e7fa-4b3d-c86e-4d11104a7fa5"
      },
      "execution_count": null,
      "outputs": [
        {
          "output_type": "execute_result",
          "data": {
            "text/plain": [
              "array(['THERMAL', 'HYDRO', 'NUCLEAR'], dtype=object)"
            ]
          },
          "metadata": {},
          "execution_count": 5
        }
      ]
    },
    {
      "cell_type": "code",
      "source": [
        "fuels = df['Type of fuel used'].unique()\n",
        "fuels"
      ],
      "metadata": {
        "colab": {
          "base_uri": "https://localhost:8080/"
        },
        "id": "VWDIHN3ctm9y",
        "outputId": "b1cc1c8e-dba9-42df-ba15-785a70e242d9"
      },
      "execution_count": null,
      "outputs": [
        {
          "output_type": "execute_result",
          "data": {
            "text/plain": [
              "array(['COAL', 'HYDRO', 'LIGNITE', 'GAS', 'NUCLEAR', 'MULTI FUEL',\n",
              "       'NATURAL GAS', 'THERMAL', 'DIESEL', 'HIGH SPEED DIESEL', 'NAPTHA'],\n",
              "      dtype=object)"
            ]
          },
          "metadata": {},
          "execution_count": 6
        }
      ]
    },
    {
      "cell_type": "code",
      "source": [
        "sectors = df['Sector of power plant'].unique()\n",
        "sectors"
      ],
      "metadata": {
        "colab": {
          "base_uri": "https://localhost:8080/"
        },
        "id": "BBBj78sfC92r",
        "outputId": "49e50940-38d6-4ac5-c480-a3aa06db4085"
      },
      "execution_count": null,
      "outputs": [
        {
          "output_type": "execute_result",
          "data": {
            "text/plain": [
              "array(['PRIVATE IPP', 'STATE', 'CENTRAL', 'PRIVATE', 'PVT'], dtype=object)"
            ]
          },
          "metadata": {},
          "execution_count": 7
        }
      ]
    },
    {
      "cell_type": "code",
      "source": [
        "years = df['YearCode'].unique()\n",
        "years"
      ],
      "metadata": {
        "colab": {
          "base_uri": "https://localhost:8080/"
        },
        "id": "SJhz3JCJFnh3",
        "outputId": "51bb9fd9-23a5-4e6d-89b4-3f5993843b5d"
      },
      "execution_count": null,
      "outputs": [
        {
          "output_type": "execute_result",
          "data": {
            "text/plain": [
              "array([2008, 2009, 2010, 2012, 2011, 2013, 2014, 2015, 2016, 2017])"
            ]
          },
          "metadata": {},
          "execution_count": 8
        }
      ]
    },
    {
      "cell_type": "markdown",
      "source": [
        "### Q1: How many Thermal, Hydro and Nuclear Plants are there in India?"
      ],
      "metadata": {
        "id": "9x-Z0HcDyAjU"
      }
    },
    {
      "cell_type": "markdown",
      "source": [
        "#### A1:"
      ],
      "metadata": {
        "id": "C_IVl1sIpe6c"
      }
    },
    {
      "cell_type": "code",
      "source": [
        "num_thermal = len(df.loc[df['Category of Plant'] == 'THERMAL'])\n",
        "num_hydro = len(df.loc[df['Category of Plant'] == 'HYDRO'])\n",
        "num_nuclear = len(df.loc[df['Category of Plant'] == 'NUCLEAR'])\n",
        "print(f'There are {num_thermal} Thermal Plants, {num_hydro} Hydro Plants and {num_nuclear} Nuclear Plants in India')"
      ],
      "metadata": {
        "colab": {
          "base_uri": "https://localhost:8080/"
        },
        "id": "PaiKIlcGyph8",
        "outputId": "e36190e6-2220-46b7-f5ae-be081e33ba76"
      },
      "execution_count": null,
      "outputs": [
        {
          "output_type": "stream",
          "name": "stdout",
          "text": [
            "There are 26427 Thermal Plants, 19465 Hydro Plants and 783 Nuclear Plants in India\n"
          ]
        }
      ]
    },
    {
      "cell_type": "markdown",
      "source": [
        "### Q2: How many plants use the different types of fuels"
      ],
      "metadata": {
        "id": "P36iy-DZzaox"
      }
    },
    {
      "cell_type": "code",
      "source": [
        "num_fuels = {fuel: 0 for fuel in fuels}\n",
        "num_fuels"
      ],
      "metadata": {
        "colab": {
          "base_uri": "https://localhost:8080/"
        },
        "id": "NsDz5AxwzvNh",
        "outputId": "2e7b1a51-f7d8-4a9a-fa26-42d96a6e8a22"
      },
      "execution_count": null,
      "outputs": [
        {
          "output_type": "execute_result",
          "data": {
            "text/plain": [
              "{'COAL': 0,\n",
              " 'HYDRO': 0,\n",
              " 'LIGNITE': 0,\n",
              " 'GAS': 0,\n",
              " 'NUCLEAR': 0,\n",
              " 'MULTI FUEL': 0,\n",
              " 'NATURAL GAS': 0,\n",
              " 'THERMAL': 0,\n",
              " 'DIESEL': 0,\n",
              " 'HIGH SPEED DIESEL': 0,\n",
              " 'NAPTHA': 0}"
            ]
          },
          "metadata": {},
          "execution_count": 10
        }
      ]
    },
    {
      "cell_type": "code",
      "source": [
        "for fuel in num_fuels:\n",
        "    condition = len(df.loc[df['Type of fuel used'] == fuel])\n",
        "    num_fuels[fuel] = condition"
      ],
      "metadata": {
        "id": "l8Su_pHpziLq"
      },
      "execution_count": null,
      "outputs": []
    },
    {
      "cell_type": "markdown",
      "source": [
        "#### A2:"
      ],
      "metadata": {
        "id": "veQEzWampkcJ"
      }
    },
    {
      "cell_type": "code",
      "source": [
        "for fuel in num_fuels:\n",
        "  print(f\"There are {num_fuels[fuel]} plants using {fuel}\")"
      ],
      "metadata": {
        "colab": {
          "base_uri": "https://localhost:8080/"
        },
        "id": "JU2s2Vp7z9HY",
        "outputId": "8c555402-fc65-4d11-8861-12c064075f64"
      },
      "execution_count": null,
      "outputs": [
        {
          "output_type": "stream",
          "name": "stdout",
          "text": [
            "There are 17380 plants using COAL\n",
            "There are 19465 plants using HYDRO\n",
            "There are 986 plants using LIGNITE\n",
            "There are 4795 plants using GAS\n",
            "There are 783 plants using NUCLEAR\n",
            "There are 137 plants using MULTI FUEL\n",
            "There are 1220 plants using NATURAL GAS\n",
            "There are 20 plants using THERMAL\n",
            "There are 1177 plants using DIESEL\n",
            "There are 267 plants using HIGH SPEED DIESEL\n",
            "There are 445 plants using NAPTHA\n"
          ]
        }
      ]
    },
    {
      "cell_type": "markdown",
      "source": [
        "### Q3: What fuels do the Thermal, Hydro and Nuclear plants use"
      ],
      "metadata": {
        "id": "vN5nwTDY0NYn"
      }
    },
    {
      "cell_type": "code",
      "source": [
        "plant_data = {plant: {fuel: 0 for fuel in num_fuels} for plant in plants}\n",
        "plant_data"
      ],
      "metadata": {
        "colab": {
          "base_uri": "https://localhost:8080/"
        },
        "id": "siN5lNEF0WxB",
        "outputId": "be01f133-104e-4c34-a449-35d042b06395"
      },
      "execution_count": null,
      "outputs": [
        {
          "output_type": "execute_result",
          "data": {
            "text/plain": [
              "{'THERMAL': {'COAL': 0,\n",
              "  'HYDRO': 0,\n",
              "  'LIGNITE': 0,\n",
              "  'GAS': 0,\n",
              "  'NUCLEAR': 0,\n",
              "  'MULTI FUEL': 0,\n",
              "  'NATURAL GAS': 0,\n",
              "  'THERMAL': 0,\n",
              "  'DIESEL': 0,\n",
              "  'HIGH SPEED DIESEL': 0,\n",
              "  'NAPTHA': 0},\n",
              " 'HYDRO': {'COAL': 0,\n",
              "  'HYDRO': 0,\n",
              "  'LIGNITE': 0,\n",
              "  'GAS': 0,\n",
              "  'NUCLEAR': 0,\n",
              "  'MULTI FUEL': 0,\n",
              "  'NATURAL GAS': 0,\n",
              "  'THERMAL': 0,\n",
              "  'DIESEL': 0,\n",
              "  'HIGH SPEED DIESEL': 0,\n",
              "  'NAPTHA': 0},\n",
              " 'NUCLEAR': {'COAL': 0,\n",
              "  'HYDRO': 0,\n",
              "  'LIGNITE': 0,\n",
              "  'GAS': 0,\n",
              "  'NUCLEAR': 0,\n",
              "  'MULTI FUEL': 0,\n",
              "  'NATURAL GAS': 0,\n",
              "  'THERMAL': 0,\n",
              "  'DIESEL': 0,\n",
              "  'HIGH SPEED DIESEL': 0,\n",
              "  'NAPTHA': 0}}"
            ]
          },
          "metadata": {},
          "execution_count": 13
        }
      ]
    },
    {
      "cell_type": "code",
      "source": [
        "for plant in plants:\n",
        "    for fuel in num_fuels:\n",
        "        condition = (df['Category of Plant'] == plant) & (df['Type of fuel used'] == fuel)\n",
        "        length = len(df.loc[condition])\n",
        "        plant_data[plant][fuel] = length\n"
      ],
      "metadata": {
        "id": "rX3K9nCu0m-R"
      },
      "execution_count": null,
      "outputs": []
    },
    {
      "cell_type": "code",
      "source": [
        "plant_data"
      ],
      "metadata": {
        "colab": {
          "base_uri": "https://localhost:8080/"
        },
        "id": "zaO9i_Hm041I",
        "outputId": "25c89752-ed64-43ea-cb9a-16af1db6ea41"
      },
      "execution_count": null,
      "outputs": [
        {
          "output_type": "execute_result",
          "data": {
            "text/plain": [
              "{'THERMAL': {'COAL': 17380,\n",
              "  'HYDRO': 0,\n",
              "  'LIGNITE': 986,\n",
              "  'GAS': 4795,\n",
              "  'NUCLEAR': 0,\n",
              "  'MULTI FUEL': 137,\n",
              "  'NATURAL GAS': 1220,\n",
              "  'THERMAL': 20,\n",
              "  'DIESEL': 1177,\n",
              "  'HIGH SPEED DIESEL': 267,\n",
              "  'NAPTHA': 445},\n",
              " 'HYDRO': {'COAL': 0,\n",
              "  'HYDRO': 19465,\n",
              "  'LIGNITE': 0,\n",
              "  'GAS': 0,\n",
              "  'NUCLEAR': 0,\n",
              "  'MULTI FUEL': 0,\n",
              "  'NATURAL GAS': 0,\n",
              "  'THERMAL': 0,\n",
              "  'DIESEL': 0,\n",
              "  'HIGH SPEED DIESEL': 0,\n",
              "  'NAPTHA': 0},\n",
              " 'NUCLEAR': {'COAL': 0,\n",
              "  'HYDRO': 0,\n",
              "  'LIGNITE': 0,\n",
              "  'GAS': 0,\n",
              "  'NUCLEAR': 783,\n",
              "  'MULTI FUEL': 0,\n",
              "  'NATURAL GAS': 0,\n",
              "  'THERMAL': 0,\n",
              "  'DIESEL': 0,\n",
              "  'HIGH SPEED DIESEL': 0,\n",
              "  'NAPTHA': 0}}"
            ]
          },
          "metadata": {},
          "execution_count": 15
        }
      ]
    },
    {
      "cell_type": "markdown",
      "source": [
        "#### A3:"
      ],
      "metadata": {
        "id": "606Dq_qCpnwm"
      }
    },
    {
      "cell_type": "code",
      "source": [
        "for plant in plants:\n",
        "    for fuel in num_fuels:\n",
        "        if plant_data[plant][fuel] == 0:\n",
        "            continue\n",
        "        print(f\"There are {plant_data[plant][fuel]} {plant} plants using {fuel}\")\n",
        "    print()"
      ],
      "metadata": {
        "colab": {
          "base_uri": "https://localhost:8080/"
        },
        "id": "3Rors5a41Ctr",
        "outputId": "2c6d7c9f-3dd0-47fc-8411-f293f99ecac1"
      },
      "execution_count": null,
      "outputs": [
        {
          "output_type": "stream",
          "name": "stdout",
          "text": [
            "There are 17380 THERMAL plants using COAL\n",
            "There are 986 THERMAL plants using LIGNITE\n",
            "There are 4795 THERMAL plants using GAS\n",
            "There are 137 THERMAL plants using MULTI FUEL\n",
            "There are 1220 THERMAL plants using NATURAL GAS\n",
            "There are 20 THERMAL plants using THERMAL\n",
            "There are 1177 THERMAL plants using DIESEL\n",
            "There are 267 THERMAL plants using HIGH SPEED DIESEL\n",
            "There are 445 THERMAL plants using NAPTHA\n",
            "\n",
            "There are 19465 HYDRO plants using HYDRO\n",
            "\n",
            "There are 783 NUCLEAR plants using NUCLEAR\n",
            "\n"
          ]
        }
      ]
    },
    {
      "cell_type": "markdown",
      "source": [
        "### Q4: Graph the various fuels used in a Coal Plant"
      ],
      "metadata": {
        "id": "uvdXllRJ1Z8z"
      }
    },
    {
      "cell_type": "code",
      "source": [
        "x = fuels\n",
        "y = [0 for i in range(len(fuels))]\n",
        "for i, fuel in enumerate(list(fuels)):\n",
        "  y[i] = plant_data['THERMAL'][fuel]\n",
        "x, y"
      ],
      "metadata": {
        "colab": {
          "base_uri": "https://localhost:8080/"
        },
        "id": "hd2ksytM1gRB",
        "outputId": "2723679b-410c-45bc-d735-a30b3394221f"
      },
      "execution_count": null,
      "outputs": [
        {
          "output_type": "execute_result",
          "data": {
            "text/plain": [
              "(array(['COAL', 'HYDRO', 'LIGNITE', 'GAS', 'NUCLEAR', 'MULTI FUEL',\n",
              "        'NATURAL GAS', 'THERMAL', 'DIESEL', 'HIGH SPEED DIESEL', 'NAPTHA'],\n",
              "       dtype=object),\n",
              " [17380, 0, 986, 4795, 0, 137, 1220, 20, 1177, 267, 445])"
            ]
          },
          "metadata": {},
          "execution_count": 17
        }
      ]
    },
    {
      "cell_type": "markdown",
      "source": [
        "#### A4:"
      ],
      "metadata": {
        "id": "Z_1rqVJMpqYs"
      }
    },
    {
      "cell_type": "code",
      "source": [
        "fig = plt.figure(figsize=(15, 15))\n",
        "plt.bar(x, y)\n",
        "plt.xlabel(\"Type of fuel\")\n",
        "plt.ylabel(\"Amount\")\n",
        "for i, value in enumerate(y):\n",
        "    plt.text(i, value + 1, str(value), ha='center', va='bottom', fontsize=10)"
      ],
      "metadata": {
        "colab": {
          "base_uri": "https://localhost:8080/",
          "height": 1000
        },
        "id": "nAoYKk9J3UXK",
        "outputId": "7292ca2b-d288-4626-cd46-11073696ed64"
      },
      "execution_count": null,
      "outputs": [
        {
          "output_type": "display_data",
          "data": {
            "text/plain": [
              "<Figure size 1500x1500 with 1 Axes>"
            ],
            "image/png": "[encoded data removed]"
          },
          "metadata": {}
        }
      ]
    },
    {
      "cell_type": "markdown",
      "source": [
        "### Q5: What is the plant distribution in the states of India"
      ],
      "metadata": {
        "id": "0X6Sza_V_z5G"
      }
    },
    {
      "cell_type": "code",
      "source": [
        "num_states = {state: len(df.loc[df['State'] == state]) for state in states }\n",
        "sorted(num_states)"
      ],
      "metadata": {
        "colab": {
          "base_uri": "https://localhost:8080/"
        },
        "id": "PLZSDxB9_5nn",
        "outputId": "9358c5e5-d062-407f-f0ba-8a0ca9170179"
      },
      "execution_count": null,
      "outputs": [
        {
          "output_type": "execute_result",
          "data": {
            "text/plain": [
              "['Andaman And Nicobar Islands',\n",
              " 'Andhra Pradesh',\n",
              " 'Arunachal Pradesh',\n",
              " 'Assam',\n",
              " 'Bihar',\n",
              " 'Chhattisgarh',\n",
              " 'Delhi',\n",
              " 'Goa',\n",
              " 'Gujarat',\n",
              " 'Haryana',\n",
              " 'Himachal Pradesh',\n",
              " 'Jammu Kashmir',\n",
              " 'Jharkhand',\n",
              " 'Karnataka',\n",
              " 'Kerala',\n",
              " 'Ladakh',\n",
              " 'Madhya Pradesh',\n",
              " 'Maharashtra',\n",
              " 'Manipur',\n",
              " 'Meghalaya',\n",
              " 'Mizoram',\n",
              " 'New Delhi',\n",
              " 'Odisha',\n",
              " 'Puducherry',\n",
              " 'Punjab',\n",
              " 'Rajasthan',\n",
              " 'Sikkim',\n",
              " 'Tamil Nadu',\n",
              " 'Telangana',\n",
              " 'Tripura',\n",
              " 'Uttar Pradesh',\n",
              " 'Uttarakhand',\n",
              " 'West Bengal']"
            ]
          },
          "metadata": {},
          "execution_count": 19
        }
      ]
    },
    {
      "cell_type": "code",
      "source": [
        "print(\"State: Number of plants\\n\")\n",
        "for state in sorted(num_states):\n",
        "    print(f\"{state}: {num_states[state]}\")"
      ],
      "metadata": {
        "colab": {
          "base_uri": "https://localhost:8080/"
        },
        "id": "obbBj2b8AdoY",
        "outputId": "dd3c912f-07b1-4a21-b602-8d86123917a1"
      },
      "execution_count": null,
      "outputs": [
        {
          "output_type": "stream",
          "name": "stdout",
          "text": [
            "State: Number of plants\n",
            "\n",
            "Andaman And Nicobar Islands: 107\n",
            "Andhra Pradesh: 1785\n",
            "Arunachal Pradesh: 18\n",
            "Assam: 666\n",
            "Bihar: 486\n",
            "Chhattisgarh: 2476\n",
            "Delhi: 678\n",
            "Goa: 107\n",
            "Gujarat: 3443\n",
            "Haryana: 690\n",
            "Himachal Pradesh: 1776\n",
            "Jammu Kashmir: 1103\n",
            "Jharkhand: 1196\n",
            "Karnataka: 2545\n",
            "Kerala: 1819\n",
            "Ladakh: 107\n",
            "Madhya Pradesh: 2218\n",
            "Maharashtra: 4417\n",
            "Manipur: 107\n",
            "Meghalaya: 468\n",
            "Mizoram: 3\n",
            "New Delhi: 1\n",
            "Odisha: 1643\n",
            "Puducherry: 107\n",
            "Punjab: 1471\n",
            "Rajasthan: 1532\n",
            "Sikkim: 412\n",
            "Tamil Nadu: 4478\n",
            "Telangana: 2191\n",
            "Tripura: 827\n",
            "Uttar Pradesh: 2959\n",
            "Uttarakhand: 1427\n",
            "West Bengal: 3412\n"
          ]
        }
      ]
    },
    {
      "cell_type": "code",
      "source": [
        "num_states = {k: v for k, v in sorted(num_states.items(), key=lambda item: item[1], reverse=True)}\n",
        "num_states"
      ],
      "metadata": {
        "colab": {
          "base_uri": "https://localhost:8080/"
        },
        "id": "D-5ivHmKpLHj",
        "outputId": "9702801d-4635-44f7-ba72-c4c591abd976"
      },
      "execution_count": null,
      "outputs": [
        {
          "output_type": "execute_result",
          "data": {
            "text/plain": [
              "{'Tamil Nadu': 4478,\n",
              " 'Maharashtra': 4417,\n",
              " 'Gujarat': 3443,\n",
              " 'West Bengal': 3412,\n",
              " 'Uttar Pradesh': 2959,\n",
              " 'Karnataka': 2545,\n",
              " 'Chhattisgarh': 2476,\n",
              " 'Madhya Pradesh': 2218,\n",
              " 'Telangana': 2191,\n",
              " 'Kerala': 1819,\n",
              " 'Andhra Pradesh': 1785,\n",
              " 'Himachal Pradesh': 1776,\n",
              " 'Odisha': 1643,\n",
              " 'Rajasthan': 1532,\n",
              " 'Punjab': 1471,\n",
              " 'Uttarakhand': 1427,\n",
              " 'Jharkhand': 1196,\n",
              " 'Jammu Kashmir': 1103,\n",
              " 'Tripura': 827,\n",
              " 'Haryana': 690,\n",
              " 'Delhi': 678,\n",
              " 'Assam': 666,\n",
              " 'Bihar': 486,\n",
              " 'Meghalaya': 468,\n",
              " 'Sikkim': 412,\n",
              " 'Ladakh': 107,\n",
              " 'Puducherry': 107,\n",
              " 'Manipur': 107,\n",
              " 'Andaman And Nicobar Islands': 107,\n",
              " 'Goa': 107,\n",
              " 'Arunachal Pradesh': 18,\n",
              " 'Mizoram': 3,\n",
              " 'New Delhi': 1}"
            ]
          },
          "metadata": {},
          "execution_count": 21
        }
      ]
    },
    {
      "cell_type": "markdown",
      "source": [
        "#### A5:"
      ],
      "metadata": {
        "id": "vP6RN-uwpuuZ"
      }
    },
    {
      "cell_type": "code",
      "source": [
        "fig = plt.figure(figsize=(10, 5))\n",
        "plt.bar(num_states.keys(), num_states.values())\n",
        "plt.xticks(rotation='vertical')\n",
        "plt.xlabel(\"State\")\n",
        "plt.ylabel(\"Number of plants\")"
      ],
      "metadata": {
        "colab": {
          "base_uri": "https://localhost:8080/"
        },
        "id": "rMg--5VDAMWY",
        "outputId": "2a72a851-7e09-4ea3-8f02-b3e0bd8773df"
      },
      "execution_count": null,
      "outputs": [
        {
          "output_type": "execute_result",
          "data": {
            "text/plain": [
              "Text(0, 0.5, 'Number of plants')"
            ]
          },
          "metadata": {},
          "execution_count": 22
        },
        {
          "output_type": "display_data",
          "data": {
            "text/plain": [
              "<Figure size 1000x500 with 1 Axes>"
            ],
            "image/png": "[encoded data removed]"
          },
          "metadata": {}
        }
      ]
    },
    {
      "cell_type": "markdown",
      "source": [
        "### Q6: What is the distribution of the Thermal, Hydro and Nuclear plants in each state"
      ],
      "metadata": {
        "id": "JY_bqPrr_qed"
      }
    },
    {
      "cell_type": "code",
      "source": [
        "state_data = {state: {plant: 0 for plant in plants} for state in states}\n",
        "state_data"
      ],
      "metadata": {
        "colab": {
          "base_uri": "https://localhost:8080/"
        },
        "id": "7-5VB_iBu13y",
        "outputId": "8ff701c2-f3d6-4ab3-d21d-3f3eb1c58c55"
      },
      "execution_count": null,
      "outputs": [
        {
          "output_type": "execute_result",
          "data": {
            "text/plain": [
              "{'Chhattisgarh': {'THERMAL': 0, 'HYDRO': 0, 'NUCLEAR': 0},\n",
              " 'Himachal Pradesh': {'THERMAL': 0, 'HYDRO': 0, 'NUCLEAR': 0},\n",
              " 'Maharashtra': {'THERMAL': 0, 'HYDRO': 0, 'NUCLEAR': 0},\n",
              " 'Uttar Pradesh': {'THERMAL': 0, 'HYDRO': 0, 'NUCLEAR': 0},\n",
              " 'Jammu Kashmir': {'THERMAL': 0, 'HYDRO': 0, 'NUCLEAR': 0},\n",
              " 'Bihar': {'THERMAL': 0, 'HYDRO': 0, 'NUCLEAR': 0},\n",
              " 'Rajasthan': {'THERMAL': 0, 'HYDRO': 0, 'NUCLEAR': 0},\n",
              " 'Tamil Nadu': {'THERMAL': 0, 'HYDRO': 0, 'NUCLEAR': 0},\n",
              " 'Madhya Pradesh': {'THERMAL': 0, 'HYDRO': 0, 'NUCLEAR': 0},\n",
              " 'Assam': {'THERMAL': 0, 'HYDRO': 0, 'NUCLEAR': 0},\n",
              " 'Sikkim': {'THERMAL': 0, 'HYDRO': 0, 'NUCLEAR': 0},\n",
              " 'Odisha': {'THERMAL': 0, 'HYDRO': 0, 'NUCLEAR': 0},\n",
              " 'West Bengal': {'THERMAL': 0, 'HYDRO': 0, 'NUCLEAR': 0},\n",
              " 'Andhra Pradesh': {'THERMAL': 0, 'HYDRO': 0, 'NUCLEAR': 0},\n",
              " 'Punjab': {'THERMAL': 0, 'HYDRO': 0, 'NUCLEAR': 0},\n",
              " 'Gujarat': {'THERMAL': 0, 'HYDRO': 0, 'NUCLEAR': 0},\n",
              " 'Haryana': {'THERMAL': 0, 'HYDRO': 0, 'NUCLEAR': 0},\n",
              " 'Telangana': {'THERMAL': 0, 'HYDRO': 0, 'NUCLEAR': 0},\n",
              " 'Jharkhand': {'THERMAL': 0, 'HYDRO': 0, 'NUCLEAR': 0},\n",
              " 'Uttarakhand': {'THERMAL': 0, 'HYDRO': 0, 'NUCLEAR': 0},\n",
              " 'Kerala': {'THERMAL': 0, 'HYDRO': 0, 'NUCLEAR': 0},\n",
              " 'Meghalaya': {'THERMAL': 0, 'HYDRO': 0, 'NUCLEAR': 0},\n",
              " 'Ladakh': {'THERMAL': 0, 'HYDRO': 0, 'NUCLEAR': 0},\n",
              " 'Delhi': {'THERMAL': 0, 'HYDRO': 0, 'NUCLEAR': 0},\n",
              " 'Karnataka': {'THERMAL': 0, 'HYDRO': 0, 'NUCLEAR': 0},\n",
              " 'Tripura': {'THERMAL': 0, 'HYDRO': 0, 'NUCLEAR': 0},\n",
              " 'Arunachal Pradesh': {'THERMAL': 0, 'HYDRO': 0, 'NUCLEAR': 0},\n",
              " 'Puducherry': {'THERMAL': 0, 'HYDRO': 0, 'NUCLEAR': 0},\n",
              " 'Manipur': {'THERMAL': 0, 'HYDRO': 0, 'NUCLEAR': 0},\n",
              " 'Andaman And Nicobar Islands': {'THERMAL': 0, 'HYDRO': 0, 'NUCLEAR': 0},\n",
              " 'Goa': {'THERMAL': 0, 'HYDRO': 0, 'NUCLEAR': 0},\n",
              " 'New Delhi': {'THERMAL': 0, 'HYDRO': 0, 'NUCLEAR': 0},\n",
              " 'Mizoram': {'THERMAL': 0, 'HYDRO': 0, 'NUCLEAR': 0}}"
            ]
          },
          "metadata": {},
          "execution_count": 23
        }
      ]
    },
    {
      "cell_type": "code",
      "source": [
        "for state in states:\n",
        "    for plant in plants:\n",
        "        condition = (df['State'] == state) & (df['Category of Plant'] == plant)\n",
        "        length = len(df.loc[condition])\n",
        "        state_data[state][plant] = length\n"
      ],
      "metadata": {
        "id": "6Yq4AKfWuJE6"
      },
      "execution_count": null,
      "outputs": []
    },
    {
      "cell_type": "code",
      "source": [
        "state_data"
      ],
      "metadata": {
        "colab": {
          "base_uri": "https://localhost:8080/"
        },
        "id": "smEQgKLavwwf",
        "outputId": "f5d5c2df-cc18-4c4a-f14d-0c25fdd1fd28"
      },
      "execution_count": null,
      "outputs": [
        {
          "output_type": "execute_result",
          "data": {
            "text/plain": [
              "{'Chhattisgarh': {'THERMAL': 2369, 'HYDRO': 107, 'NUCLEAR': 0},\n",
              " 'Himachal Pradesh': {'THERMAL': 0, 'HYDRO': 1776, 'NUCLEAR': 0},\n",
              " 'Maharashtra': {'THERMAL': 2812, 'HYDRO': 1498, 'NUCLEAR': 107},\n",
              " 'Uttar Pradesh': {'THERMAL': 2103, 'HYDRO': 535, 'NUCLEAR': 321},\n",
              " 'Jammu Kashmir': {'THERMAL': 107, 'HYDRO': 996, 'NUCLEAR': 0},\n",
              " 'Bihar': {'THERMAL': 486, 'HYDRO': 0, 'NUCLEAR': 0},\n",
              " 'Rajasthan': {'THERMAL': 1177, 'HYDRO': 321, 'NUCLEAR': 34},\n",
              " 'Tamil Nadu': {'THERMAL': 2338, 'HYDRO': 2033, 'NUCLEAR': 107},\n",
              " 'Madhya Pradesh': {'THERMAL': 1041, 'HYDRO': 1177, 'NUCLEAR': 0},\n",
              " 'Assam': {'THERMAL': 559, 'HYDRO': 107, 'NUCLEAR': 0},\n",
              " 'Sikkim': {'THERMAL': 0, 'HYDRO': 412, 'NUCLEAR': 0},\n",
              " 'Odisha': {'THERMAL': 1082, 'HYDRO': 561, 'NUCLEAR': 0},\n",
              " 'West Bengal': {'THERMAL': 1954, 'HYDRO': 1458, 'NUCLEAR': 0},\n",
              " 'Andhra Pradesh': {'THERMAL': 1785, 'HYDRO': 0, 'NUCLEAR': 0},\n",
              " 'Punjab': {'THERMAL': 508, 'HYDRO': 963, 'NUCLEAR': 0},\n",
              " 'Gujarat': {'THERMAL': 2908, 'HYDRO': 428, 'NUCLEAR': 107},\n",
              " 'Haryana': {'THERMAL': 690, 'HYDRO': 0, 'NUCLEAR': 0},\n",
              " 'Telangana': {'THERMAL': 557, 'HYDRO': 1634, 'NUCLEAR': 0},\n",
              " 'Jharkhand': {'THERMAL': 1089, 'HYDRO': 107, 'NUCLEAR': 0},\n",
              " 'Uttarakhand': {'THERMAL': 36, 'HYDRO': 1391, 'NUCLEAR': 0},\n",
              " 'Kerala': {'THERMAL': 428, 'HYDRO': 1391, 'NUCLEAR': 0},\n",
              " 'Meghalaya': {'THERMAL': 0, 'HYDRO': 468, 'NUCLEAR': 0},\n",
              " 'Ladakh': {'THERMAL': 0, 'HYDRO': 107, 'NUCLEAR': 0},\n",
              " 'Delhi': {'THERMAL': 678, 'HYDRO': 0, 'NUCLEAR': 0},\n",
              " 'Karnataka': {'THERMAL': 888, 'HYDRO': 1550, 'NUCLEAR': 107},\n",
              " 'Tripura': {'THERMAL': 403, 'HYDRO': 424, 'NUCLEAR': 0},\n",
              " 'Arunachal Pradesh': {'THERMAL': 0, 'HYDRO': 18, 'NUCLEAR': 0},\n",
              " 'Puducherry': {'THERMAL': 107, 'HYDRO': 0, 'NUCLEAR': 0},\n",
              " 'Manipur': {'THERMAL': 107, 'HYDRO': 0, 'NUCLEAR': 0},\n",
              " 'Andaman And Nicobar Islands': {'THERMAL': 107, 'HYDRO': 0, 'NUCLEAR': 0},\n",
              " 'Goa': {'THERMAL': 107, 'HYDRO': 0, 'NUCLEAR': 0},\n",
              " 'New Delhi': {'THERMAL': 1, 'HYDRO': 0, 'NUCLEAR': 0},\n",
              " 'Mizoram': {'THERMAL': 0, 'HYDRO': 3, 'NUCLEAR': 0}}"
            ]
          },
          "metadata": {},
          "execution_count": 25
        }
      ]
    },
    {
      "cell_type": "markdown",
      "source": [
        "#### A6:"
      ],
      "metadata": {
        "id": "QOuLCKJfpx53"
      }
    },
    {
      "cell_type": "code",
      "source": [
        "categories = list(state_data.keys())\n",
        "thermal_data = [state_data[category]['THERMAL'] for category in categories]\n",
        "hydro_data = [state_data[category]['HYDRO'] for category in categories]\n",
        "nuclear_data = [state_data[category]['NUCLEAR'] for category in categories]\n",
        "\n",
        "fig, ax = plt.subplots(figsize=(10, 5))\n",
        "ax.bar(categories, thermal_data, label='Thermal')\n",
        "ax.bar(categories, hydro_data, bottom=thermal_data, label='Hydro')\n",
        "ax.bar(categories, nuclear_data, bottom=[x + y for x, y in zip(thermal_data, hydro_data)], label='Nuclear')\n",
        "plt.xticks(rotation='vertical')\n",
        "plt.xlabel(\"State\")\n",
        "plt.ylabel(\"Number of plants\")\n",
        "plt.legend()\n"
      ],
      "metadata": {
        "colab": {
          "base_uri": "https://localhost:8080/"
        },
        "id": "s55VjjeuBx1V",
        "outputId": "6d5a284b-8e9d-4807-dd5d-cb43a5600a6f"
      },
      "execution_count": null,
      "outputs": [
        {
          "output_type": "execute_result",
          "data": {
            "text/plain": [
              "<matplotlib.legend.Legend at 0x79963b3f19c0>"
            ]
          },
          "metadata": {},
          "execution_count": 26
        },
        {
          "output_type": "display_data",
          "data": {
            "text/plain": [
              "<Figure size 1000x500 with 1 Axes>"
            ],
            "image/png": "[encoded data removed]"
          },
          "metadata": {}
        }
      ]
    },
    {
      "cell_type": "markdown",
      "source": [
        "### Q7: What's the distribution of the sector of power plants in the states"
      ],
      "metadata": {
        "id": "YPyKZyMNCsbv"
      }
    },
    {
      "cell_type": "code",
      "source": [
        "sectors"
      ],
      "metadata": {
        "colab": {
          "base_uri": "https://localhost:8080/"
        },
        "id": "oGHiMy9JDzGr",
        "outputId": "173d9649-3f4b-47d0-8826-af3d50f48522"
      },
      "execution_count": null,
      "outputs": [
        {
          "output_type": "execute_result",
          "data": {
            "text/plain": [
              "array(['PRIVATE IPP', 'STATE', 'CENTRAL', 'PRIVATE', 'PVT'], dtype=object)"
            ]
          },
          "metadata": {},
          "execution_count": 27
        }
      ]
    },
    {
      "cell_type": "code",
      "source": [
        "state_sector_data = {state: {sector: 0 for sector in sectors} for state in states}\n",
        "state_sector_data"
      ],
      "metadata": {
        "colab": {
          "base_uri": "https://localhost:8080/"
        },
        "id": "Y2DULpCVC5W-",
        "outputId": "cd79ecf6-b1ef-4866-e3ee-3031bf680528"
      },
      "execution_count": null,
      "outputs": [
        {
          "output_type": "execute_result",
          "data": {
            "text/plain": [
              "{'Chhattisgarh': {'PRIVATE IPP': 0,\n",
              "  'STATE': 0,\n",
              "  'CENTRAL': 0,\n",
              "  'PRIVATE': 0,\n",
              "  'PVT': 0},\n",
              " 'Himachal Pradesh': {'PRIVATE IPP': 0,\n",
              "  'STATE': 0,\n",
              "  'CENTRAL': 0,\n",
              "  'PRIVATE': 0,\n",
              "  'PVT': 0},\n",
              " 'Maharashtra': {'PRIVATE IPP': 0,\n",
              "  'STATE': 0,\n",
              "  'CENTRAL': 0,\n",
              "  'PRIVATE': 0,\n",
              "  'PVT': 0},\n",
              " 'Uttar Pradesh': {'PRIVATE IPP': 0,\n",
              "  'STATE': 0,\n",
              "  'CENTRAL': 0,\n",
              "  'PRIVATE': 0,\n",
              "  'PVT': 0},\n",
              " 'Jammu Kashmir': {'PRIVATE IPP': 0,\n",
              "  'STATE': 0,\n",
              "  'CENTRAL': 0,\n",
              "  'PRIVATE': 0,\n",
              "  'PVT': 0},\n",
              " 'Bihar': {'PRIVATE IPP': 0, 'STATE': 0, 'CENTRAL': 0, 'PRIVATE': 0, 'PVT': 0},\n",
              " 'Rajasthan': {'PRIVATE IPP': 0,\n",
              "  'STATE': 0,\n",
              "  'CENTRAL': 0,\n",
              "  'PRIVATE': 0,\n",
              "  'PVT': 0},\n",
              " 'Tamil Nadu': {'PRIVATE IPP': 0,\n",
              "  'STATE': 0,\n",
              "  'CENTRAL': 0,\n",
              "  'PRIVATE': 0,\n",
              "  'PVT': 0},\n",
              " 'Madhya Pradesh': {'PRIVATE IPP': 0,\n",
              "  'STATE': 0,\n",
              "  'CENTRAL': 0,\n",
              "  'PRIVATE': 0,\n",
              "  'PVT': 0},\n",
              " 'Assam': {'PRIVATE IPP': 0, 'STATE': 0, 'CENTRAL': 0, 'PRIVATE': 0, 'PVT': 0},\n",
              " 'Sikkim': {'PRIVATE IPP': 0,\n",
              "  'STATE': 0,\n",
              "  'CENTRAL': 0,\n",
              "  'PRIVATE': 0,\n",
              "  'PVT': 0},\n",
              " 'Odisha': {'PRIVATE IPP': 0,\n",
              "  'STATE': 0,\n",
              "  'CENTRAL': 0,\n",
              "  'PRIVATE': 0,\n",
              "  'PVT': 0},\n",
              " 'West Bengal': {'PRIVATE IPP': 0,\n",
              "  'STATE': 0,\n",
              "  'CENTRAL': 0,\n",
              "  'PRIVATE': 0,\n",
              "  'PVT': 0},\n",
              " 'Andhra Pradesh': {'PRIVATE IPP': 0,\n",
              "  'STATE': 0,\n",
              "  'CENTRAL': 0,\n",
              "  'PRIVATE': 0,\n",
              "  'PVT': 0},\n",
              " 'Punjab': {'PRIVATE IPP': 0,\n",
              "  'STATE': 0,\n",
              "  'CENTRAL': 0,\n",
              "  'PRIVATE': 0,\n",
              "  'PVT': 0},\n",
              " 'Gujarat': {'PRIVATE IPP': 0,\n",
              "  'STATE': 0,\n",
              "  'CENTRAL': 0,\n",
              "  'PRIVATE': 0,\n",
              "  'PVT': 0},\n",
              " 'Haryana': {'PRIVATE IPP': 0,\n",
              "  'STATE': 0,\n",
              "  'CENTRAL': 0,\n",
              "  'PRIVATE': 0,\n",
              "  'PVT': 0},\n",
              " 'Telangana': {'PRIVATE IPP': 0,\n",
              "  'STATE': 0,\n",
              "  'CENTRAL': 0,\n",
              "  'PRIVATE': 0,\n",
              "  'PVT': 0},\n",
              " 'Jharkhand': {'PRIVATE IPP': 0,\n",
              "  'STATE': 0,\n",
              "  'CENTRAL': 0,\n",
              "  'PRIVATE': 0,\n",
              "  'PVT': 0},\n",
              " 'Uttarakhand': {'PRIVATE IPP': 0,\n",
              "  'STATE': 0,\n",
              "  'CENTRAL': 0,\n",
              "  'PRIVATE': 0,\n",
              "  'PVT': 0},\n",
              " 'Kerala': {'PRIVATE IPP': 0,\n",
              "  'STATE': 0,\n",
              "  'CENTRAL': 0,\n",
              "  'PRIVATE': 0,\n",
              "  'PVT': 0},\n",
              " 'Meghalaya': {'PRIVATE IPP': 0,\n",
              "  'STATE': 0,\n",
              "  'CENTRAL': 0,\n",
              "  'PRIVATE': 0,\n",
              "  'PVT': 0},\n",
              " 'Ladakh': {'PRIVATE IPP': 0,\n",
              "  'STATE': 0,\n",
              "  'CENTRAL': 0,\n",
              "  'PRIVATE': 0,\n",
              "  'PVT': 0},\n",
              " 'Delhi': {'PRIVATE IPP': 0, 'STATE': 0, 'CENTRAL': 0, 'PRIVATE': 0, 'PVT': 0},\n",
              " 'Karnataka': {'PRIVATE IPP': 0,\n",
              "  'STATE': 0,\n",
              "  'CENTRAL': 0,\n",
              "  'PRIVATE': 0,\n",
              "  'PVT': 0},\n",
              " 'Tripura': {'PRIVATE IPP': 0,\n",
              "  'STATE': 0,\n",
              "  'CENTRAL': 0,\n",
              "  'PRIVATE': 0,\n",
              "  'PVT': 0},\n",
              " 'Arunachal Pradesh': {'PRIVATE IPP': 0,\n",
              "  'STATE': 0,\n",
              "  'CENTRAL': 0,\n",
              "  'PRIVATE': 0,\n",
              "  'PVT': 0},\n",
              " 'Puducherry': {'PRIVATE IPP': 0,\n",
              "  'STATE': 0,\n",
              "  'CENTRAL': 0,\n",
              "  'PRIVATE': 0,\n",
              "  'PVT': 0},\n",
              " 'Manipur': {'PRIVATE IPP': 0,\n",
              "  'STATE': 0,\n",
              "  'CENTRAL': 0,\n",
              "  'PRIVATE': 0,\n",
              "  'PVT': 0},\n",
              " 'Andaman And Nicobar Islands': {'PRIVATE IPP': 0,\n",
              "  'STATE': 0,\n",
              "  'CENTRAL': 0,\n",
              "  'PRIVATE': 0,\n",
              "  'PVT': 0},\n",
              " 'Goa': {'PRIVATE IPP': 0, 'STATE': 0, 'CENTRAL': 0, 'PRIVATE': 0, 'PVT': 0},\n",
              " 'New Delhi': {'PRIVATE IPP': 0,\n",
              "  'STATE': 0,\n",
              "  'CENTRAL': 0,\n",
              "  'PRIVATE': 0,\n",
              "  'PVT': 0},\n",
              " 'Mizoram': {'PRIVATE IPP': 0,\n",
              "  'STATE': 0,\n",
              "  'CENTRAL': 0,\n",
              "  'PRIVATE': 0,\n",
              "  'PVT': 0}}"
            ]
          },
          "metadata": {},
          "execution_count": 28
        }
      ]
    },
    {
      "cell_type": "code",
      "source": [
        "for state in states:\n",
        "    for sector in sectors:\n",
        "        condition = (df['State'] == state) & (df['Sector of power plant'] == sector)\n",
        "        length = len(df.loc[condition])\n",
        "        state_sector_data[state][sector] = length\n"
      ],
      "metadata": {
        "id": "ALHO8hYSDQLz"
      },
      "execution_count": null,
      "outputs": []
    },
    {
      "cell_type": "code",
      "source": [
        "state_sector_data"
      ],
      "metadata": {
        "colab": {
          "base_uri": "https://localhost:8080/"
        },
        "id": "2CFtPuiZDa5L",
        "outputId": "bbbc63b2-85de-42fe-df3e-1e90e6f6ee25"
      },
      "execution_count": null,
      "outputs": [
        {
          "output_type": "execute_result",
          "data": {
            "text/plain": [
              "{'Chhattisgarh': {'PRIVATE IPP': 1141,\n",
              "  'STATE': 642,\n",
              "  'CENTRAL': 333,\n",
              "  'PRIVATE': 0,\n",
              "  'PVT': 360},\n",
              " 'Himachal Pradesh': {'PRIVATE IPP': 623,\n",
              "  'STATE': 569,\n",
              "  'CENTRAL': 454,\n",
              "  'PRIVATE': 0,\n",
              "  'PVT': 130},\n",
              " 'Maharashtra': {'PRIVATE IPP': 1068,\n",
              "  'STATE': 1819,\n",
              "  'CENTRAL': 547,\n",
              "  'PRIVATE': 623,\n",
              "  'PVT': 360},\n",
              " 'Uttar Pradesh': {'PRIVATE IPP': 739,\n",
              "  'STATE': 963,\n",
              "  'CENTRAL': 1077,\n",
              "  'PRIVATE': 0,\n",
              "  'PVT': 180},\n",
              " 'Jammu Kashmir': {'PRIVATE IPP': 0,\n",
              "  'STATE': 449,\n",
              "  'CENTRAL': 654,\n",
              "  'PRIVATE': 0,\n",
              "  'PVT': 0},\n",
              " 'Bihar': {'PRIVATE IPP': 0,\n",
              "  'STATE': 107,\n",
              "  'CENTRAL': 379,\n",
              "  'PRIVATE': 0,\n",
              "  'PVT': 0},\n",
              " 'Rajasthan': {'PRIVATE IPP': 178,\n",
              "  'STATE': 1070,\n",
              "  'CENTRAL': 248,\n",
              "  'PRIVATE': 0,\n",
              "  'PVT': 36},\n",
              " 'Tamil Nadu': {'PRIVATE IPP': 722,\n",
              "  'STATE': 2889,\n",
              "  'CENTRAL': 689,\n",
              "  'PRIVATE': 0,\n",
              "  'PVT': 178},\n",
              " 'Madhya Pradesh': {'PRIVATE IPP': 427,\n",
              "  'STATE': 1320,\n",
              "  'CENTRAL': 327,\n",
              "  'PRIVATE': 0,\n",
              "  'PVT': 144},\n",
              " 'Assam': {'PRIVATE IPP': 0,\n",
              "  'STATE': 536,\n",
              "  'CENTRAL': 130,\n",
              "  'PRIVATE': 0,\n",
              "  'PVT': 0},\n",
              " 'Sikkim': {'PRIVATE IPP': 133,\n",
              "  'STATE': 18,\n",
              "  'CENTRAL': 214,\n",
              "  'PRIVATE': 0,\n",
              "  'PVT': 47},\n",
              " 'Odisha': {'PRIVATE IPP': 623,\n",
              "  'STATE': 668,\n",
              "  'CENTRAL': 214,\n",
              "  'PRIVATE': 0,\n",
              "  'PVT': 138},\n",
              " 'West Bengal': {'PRIVATE IPP': 178,\n",
              "  'STATE': 1177,\n",
              "  'CENTRAL': 1584,\n",
              "  'PRIVATE': 356,\n",
              "  'PVT': 117},\n",
              " 'Andhra Pradesh': {'PRIVATE IPP': 1117,\n",
              "  'STATE': 272,\n",
              "  'CENTRAL': 108,\n",
              "  'PRIVATE': 0,\n",
              "  'PVT': 288},\n",
              " 'Punjab': {'PRIVATE IPP': 133,\n",
              "  'STATE': 749,\n",
              "  'CENTRAL': 535,\n",
              "  'PRIVATE': 0,\n",
              "  'PVT': 54},\n",
              " 'Gujarat': {'PRIVATE IPP': 929,\n",
              "  'STATE': 1676,\n",
              "  'CENTRAL': 321,\n",
              "  'PRIVATE': 267,\n",
              "  'PVT': 250},\n",
              " 'Haryana': {'PRIVATE IPP': 89,\n",
              "  'STATE': 369,\n",
              "  'CENTRAL': 214,\n",
              "  'PRIVATE': 0,\n",
              "  'PVT': 18},\n",
              " 'Telangana': {'PRIVATE IPP': 0,\n",
              "  'STATE': 2085,\n",
              "  'CENTRAL': 106,\n",
              "  'PRIVATE': 0,\n",
              "  'PVT': 0},\n",
              " 'Jharkhand': {'PRIVATE IPP': 356,\n",
              "  'STATE': 303,\n",
              "  'CENTRAL': 467,\n",
              "  'PRIVATE': 0,\n",
              "  'PVT': 70},\n",
              " 'Uttarakhand': {'PRIVATE IPP': 89,\n",
              "  'STATE': 1070,\n",
              "  'CENTRAL': 214,\n",
              "  'PRIVATE': 0,\n",
              "  'PVT': 54},\n",
              " 'Kerala': {'PRIVATE IPP': 89,\n",
              "  'STATE': 1605,\n",
              "  'CENTRAL': 107,\n",
              "  'PRIVATE': 0,\n",
              "  'PVT': 18},\n",
              " 'Meghalaya': {'PRIVATE IPP': 0,\n",
              "  'STATE': 468,\n",
              "  'CENTRAL': 0,\n",
              "  'PRIVATE': 0,\n",
              "  'PVT': 0},\n",
              " 'Ladakh': {'PRIVATE IPP': 0,\n",
              "  'STATE': 0,\n",
              "  'CENTRAL': 107,\n",
              "  'PRIVATE': 0,\n",
              "  'PVT': 0},\n",
              " 'Delhi': {'PRIVATE IPP': 89,\n",
              "  'STATE': 464,\n",
              "  'CENTRAL': 107,\n",
              "  'PRIVATE': 0,\n",
              "  'PVT': 18},\n",
              " 'Karnataka': {'PRIVATE IPP': 445,\n",
              "  'STATE': 1894,\n",
              "  'CENTRAL': 116,\n",
              "  'PRIVATE': 0,\n",
              "  'PVT': 90},\n",
              " 'Tripura': {'PRIVATE IPP': 0,\n",
              "  'STATE': 214,\n",
              "  'CENTRAL': 613,\n",
              "  'PRIVATE': 0,\n",
              "  'PVT': 0},\n",
              " 'Arunachal Pradesh': {'PRIVATE IPP': 0,\n",
              "  'STATE': 0,\n",
              "  'CENTRAL': 18,\n",
              "  'PRIVATE': 0,\n",
              "  'PVT': 0},\n",
              " 'Puducherry': {'PRIVATE IPP': 0,\n",
              "  'STATE': 107,\n",
              "  'CENTRAL': 0,\n",
              "  'PRIVATE': 0,\n",
              "  'PVT': 0},\n",
              " 'Manipur': {'PRIVATE IPP': 0,\n",
              "  'STATE': 107,\n",
              "  'CENTRAL': 0,\n",
              "  'PRIVATE': 0,\n",
              "  'PVT': 0},\n",
              " 'Andaman And Nicobar Islands': {'PRIVATE IPP': 0,\n",
              "  'STATE': 107,\n",
              "  'CENTRAL': 0,\n",
              "  'PRIVATE': 0,\n",
              "  'PVT': 0},\n",
              " 'Goa': {'PRIVATE IPP': 89, 'STATE': 0, 'CENTRAL': 0, 'PRIVATE': 0, 'PVT': 18},\n",
              " 'New Delhi': {'PRIVATE IPP': 0,\n",
              "  'STATE': 0,\n",
              "  'CENTRAL': 1,\n",
              "  'PRIVATE': 0,\n",
              "  'PVT': 0},\n",
              " 'Mizoram': {'PRIVATE IPP': 0,\n",
              "  'STATE': 0,\n",
              "  'CENTRAL': 3,\n",
              "  'PRIVATE': 0,\n",
              "  'PVT': 0}}"
            ]
          },
          "metadata": {},
          "execution_count": 30
        }
      ]
    },
    {
      "cell_type": "markdown",
      "source": [
        "#### A7:"
      ],
      "metadata": {
        "id": "2ogExpQKp7zX"
      }
    },
    {
      "cell_type": "code",
      "source": [
        "categories = list(state_sector_data.keys())\n",
        "private_ipp = [state_sector_data[category]['PRIVATE IPP'] for category in categories]\n",
        "state = [state_sector_data[category]['STATE'] for category in categories]\n",
        "central = [state_sector_data[category]['CENTRAL'] for category in categories]\n",
        "private = [state_sector_data[category]['PRIVATE'] for category in categories]\n",
        "pvt = [state_sector_data[category]['PVT'] for category in categories]\n",
        "\n",
        "\n",
        "fig, ax = plt.subplots(figsize=(10, 5))\n",
        "ax.bar(categories, private_ipp, label='Private IPP')\n",
        "ax.bar(categories, state, bottom=private_ipp, label='State')\n",
        "ax.bar(categories, central, bottom=[x + y for x, y in zip(private_ipp, state)], label='Central')\n",
        "ax.bar(categories, private, bottom=[x + y + z for x, y, z in zip(private_ipp, state, central)], label='Private')\n",
        "ax.bar(categories, pvt, bottom=[x + y + z + w for x, y, z, w in zip(private_ipp, state, central, private)], label='PVT')\n",
        "\n",
        "\n",
        "plt.xticks(rotation='vertical')\n",
        "plt.xlabel(\"State\")\n",
        "plt.ylabel(\"Number of plants\")\n",
        "plt.legend()\n"
      ],
      "metadata": {
        "colab": {
          "base_uri": "https://localhost:8080/"
        },
        "id": "nrvjyiUvERni",
        "outputId": "4b10fade-27a4-4cfc-dbed-b6317cc0159b"
      },
      "execution_count": null,
      "outputs": [
        {
          "output_type": "execute_result",
          "data": {
            "text/plain": [
              "<matplotlib.legend.Legend at 0x79963749a4d0>"
            ]
          },
          "metadata": {},
          "execution_count": 31
        },
        {
          "output_type": "display_data",
          "data": {
            "text/plain": [
              "<Figure size 1000x500 with 1 Axes>"
            ],
            "image/png": "[encoded data removed]"
          },
          "metadata": {}
        }
      ]
    },
    {
      "cell_type": "markdown",
      "source": [
        "### Q8: When were the power plants commissioned"
      ],
      "metadata": {
        "id": "Mz6Cki4oFOqQ"
      }
    },
    {
      "cell_type": "code",
      "source": [
        "year_data = {year: len(df.loc[df['YearCode'] == year]) for year in years}\n",
        "year_data = dict(sorted(year_data.items(), key=lambda item: item[0]))\n",
        "year_data"
      ],
      "metadata": {
        "colab": {
          "base_uri": "https://localhost:8080/"
        },
        "id": "GRAXmeyjFkoV",
        "outputId": "05bf7fe3-d524-4984-da49-ee05cd25bb5b"
      },
      "execution_count": null,
      "outputs": [
        {
          "output_type": "execute_result",
          "data": {
            "text/plain": [
              "{2008: 3834,\n",
              " 2009: 5094,\n",
              " 2010: 5088,\n",
              " 2011: 5070,\n",
              " 2012: 5046,\n",
              " 2013: 5088,\n",
              " 2014: 5339,\n",
              " 2015: 5457,\n",
              " 2016: 5211,\n",
              " 2017: 1448}"
            ]
          },
          "metadata": {},
          "execution_count": 32
        }
      ]
    },
    {
      "cell_type": "markdown",
      "source": [
        "#### A8:"
      ],
      "metadata": {
        "id": "z2eiY7Wip_EY"
      }
    },
    {
      "cell_type": "code",
      "source": [
        "x = list(year_data.keys())\n",
        "y = list(year_data.values())\n",
        "fig = plt.figure(figsize=(10, 5))\n",
        "plt.plot(x, y)\n",
        "plt.xlabel(\"Year\")\n",
        "plt.ylabel(\"Number of plants\")"
      ],
      "metadata": {
        "colab": {
          "base_uri": "https://localhost:8080/"
        },
        "id": "Al9lsDm3GIt0",
        "outputId": "9f4a2421-745e-4a78-f0a6-f7e18b926198"
      },
      "execution_count": null,
      "outputs": [
        {
          "output_type": "execute_result",
          "data": {
            "text/plain": [
              "Text(0, 0.5, 'Number of plants')"
            ]
          },
          "metadata": {},
          "execution_count": 33
        },
        {
          "output_type": "display_data",
          "data": {
            "text/plain": [
              "<Figure size 1000x500 with 1 Axes>"
            ],
            "image/png": "[encoded data removed]"
          },
          "metadata": {}
        }
      ]
    },
    {
      "cell_type": "markdown",
      "source": [
        "### Q9: How many plants were running in that year"
      ],
      "metadata": {
        "id": "WCDqZNylGa2t"
      }
    },
    {
      "cell_type": "markdown",
      "source": [
        "#### A9:"
      ],
      "metadata": {
        "id": "DXQYQwMCqBLd"
      }
    },
    {
      "cell_type": "code",
      "source": [
        "def cumulative_sum(nums):\n",
        "    return [sum(nums[:i+1]) for i in range(len(nums))]\n",
        "\n",
        "y1 = cumulative_sum(y)\n",
        "plt.plot(x, y1)\n",
        "plt.xlabel(\"Year\")\n",
        "plt.ylabel(\"Number of plants\")"
      ],
      "metadata": {
        "colab": {
          "base_uri": "https://localhost:8080/"
        },
        "id": "DkqwIDzOGgCV",
        "outputId": "56c975f0-7178-4fe6-f899-979bdf80be70"
      },
      "execution_count": null,
      "outputs": [
        {
          "output_type": "execute_result",
          "data": {
            "text/plain": [
              "Text(0, 0.5, 'Number of plants')"
            ]
          },
          "metadata": {},
          "execution_count": 34
        },
        {
          "output_type": "display_data",
          "data": {
            "text/plain": [
              "<Figure size 640x480 with 1 Axes>"
            ],
            "image/png": "[encoded data removed]"
          },
          "metadata": {}
        }
      ]
    },
    {
      "cell_type": "markdown",
      "source": [
        "### Q10: Which are the top coal companies"
      ],
      "metadata": {
        "id": "yoqITWrblgpF"
      }
    },
    {
      "cell_type": "code",
      "source": [
        "companies = df['Name of coal company'].unique()\n",
        "companies"
      ],
      "metadata": {
        "colab": {
          "base_uri": "https://localhost:8080/"
        },
        "id": "PDVIkcdjlXqE",
        "outputId": "722d3118-2475-4ea6-bfad-3c5b68bed8f9"
      },
      "execution_count": null,
      "outputs": [
        {
          "output_type": "execute_result",
          "data": {
            "text/plain": [
              "array(['WPCL', 'ADHPL', 'IBPL', 'LAPPL', 'KWPCL', 'JK  PDD', 'BALCO',\n",
              "       'DBPCL', 'NTPC Ltd', 'BEPL', 'NLC', 'IEPL', 'TNGDCL', 'NSPCL',\n",
              "       'BPSCL', 'APGPCL', 'LGPPL', 'VIP', 'NHPC', 'RRVUNL', 'GIL', 'JPL',\n",
              "       'DIPL', 'DVC', 'EEL', 'GAUTAMI', 'GEPL', 'GVKP&IL', 'GSEGL',\n",
              "       'IBPIL', 'APCPL', 'RWPL (JSW)', 'JSWEL', 'APGENCO', 'GMR ENERG',\n",
              "       'JKHPCL', 'ACB', 'VESPL', 'APL', 'KONA', 'KONDAPALI', 'THDC',\n",
              "       'NPC', 'KSEB', 'ADHUNIK', 'ESSARPMPL', 'JhPL(HR)', 'SMHPCL', 'MPL',\n",
              "       'CPL', 'EPPL', 'CSPGCL', 'AMNEPL', 'CGPL', 'MeECL', 'LANCO',\n",
              "       'GSECL', 'IPGPCL', 'HPGCL', 'SJVNL', 'SCPL', 'RGPPL', 'NDPL',\n",
              "       'RPSCL', 'EPGL', 'RPL', 'MPPGCL', 'SEPL', 'HSPCL', 'SEL',\n",
              "       'TOR POW (SUGEN)', 'SVPPL', 'SUL', 'MEL', 'UPCL', 'HPSEB',\n",
              "       'TOR POW (UNOSUGEN)', 'NTECL', 'VVL', 'NTPC Ltd.', 'E.P.P.L.',\n",
              "       'TOR. POW. (UNOSUGEN)', 'APGCL', 'NALCO', 'MCCPL', 'SKS', 'HEL',\n",
              "       'DEPL', 'NEEPCO.', 'NTPCIR', 'JPPVL', 'TPTCL', 'JHAPL', 'TUL',\n",
              "       'TRNE', 'NLCTNEB', 'RKMPPL', 'HNPC', 'JKSPDC', 'BECL',\n",
              "       'GPGSL (GVK)', 'HPPCL', 'LPGCL', 'SCCL', 'KPCL', 'BIPL', 'GIPL',\n",
              "       'IEL', 'SrEPL', 'LBPL', 'PGPL', 'TSGENCO', 'SGPL', 'ACPL',\n",
              "       'TOR. POW. (SUGEN)', 'BLAPPL', 'NPL', 'CEPL', 'DPSCLTD', 'BELLARY',\n",
              "       'WBSEDCL', 'UJVNL', 'UPJVNL', 'P&ED  PUDUCHERRY', 'P&ED Pudu.',\n",
              "       'DLHP', 'ED  MANIPUR', 'ED Manipur', 'ED  MANIIPUR', 'LVS POWER',\n",
              "       'TSECL', 'WBPDC', 'MAHAGENCO', 'A&N ADM', 'RELIANCE', 'TATA PCL',\n",
              "       'PENNA', 'BBMB', 'DAE', 'JSEB', 'TATA MAH', 'TATA MAH.', 'CESC',\n",
              "       'AHPC (GVK)', 'BSES(C)', 'JK PDD', 'VASAVI', 'BSEB', 'BSES(P)',\n",
              "       nan, 'APEPDCL', 'BRBCL', 'RattanIndia', 'PPNPGCL', 'ONGC',\n",
              "       'VEMAGIRI', 'ESSAR', 'MBPMPL', 'PPGCL (Jaypee)', 'GCEL', 'GPPCL',\n",
              "       'GREL', 'NPCIL', 'SSNNL', 'SAMALPATI', 'MADURAI P', 'ICCL',\n",
              "       'GBHPPL', 'GIPCL', 'PSPCL', 'MPCL', 'ABAN POWR', 'STCMSECP',\n",
              "       'OHPC', 'GISL', 'NEEPCO', 'UPRVUNL', 'P&ED PUDUCHERRY',\n",
              "       'P&ED Puducherry', 'GTE CORP', 'P&ED  Puducherry', 'GPE CORP',\n",
              "       'K.B.U.N.L', 'JHPL', 'HBPCL', 'NHDC', 'SPGL', 'KBUNL', 'GMDCL',\n",
              "       'PVUNL', 'DPL', 'ITPCL', 'TVNL', 'OPGC', 'JBTPP', 'RIL (DAHANU)',\n",
              "       'JITPL', 'NTPL', 'JKHCL', 'TSPL', 'JK PDDHPCL', 'APPDCL', 'TPCIL',\n",
              "       'JK  PDDHPCL', 'SPL', 'LVTPL', 'MUNPL', 'NPGCPL', 'NTPGPL',\n",
              "       'IAEPL'], dtype=object)"
            ]
          },
          "metadata": {},
          "execution_count": 35
        }
      ]
    },
    {
      "cell_type": "code",
      "source": [
        "company_data = {company: len(df.loc[df['Name of coal company'] == company]) for company in companies}\n",
        "company_data"
      ],
      "metadata": {
        "colab": {
          "base_uri": "https://localhost:8080/"
        },
        "id": "eN-OluPWlpEr",
        "outputId": "972b948a-8dc6-42cb-ef67-3898219f4ad8"
      },
      "execution_count": null,
      "outputs": [
        {
          "output_type": "execute_result",
          "data": {
            "text/plain": [
              "{'WPCL': 214,\n",
              " 'ADHPL': 107,\n",
              " 'IBPL': 178,\n",
              " 'LAPPL': 107,\n",
              " 'KWPCL': 107,\n",
              " 'JK  PDD': 264,\n",
              " 'BALCO': 107,\n",
              " 'DBPCL': 110,\n",
              " 'NTPC Ltd': 24,\n",
              " 'BEPL': 535,\n",
              " 'NLC': 542,\n",
              " 'IEPL': 107,\n",
              " 'TNGDCL': 2889,\n",
              " 'NSPCL': 107,\n",
              " 'BPSCL': 74,\n",
              " 'APGPCL': 536,\n",
              " 'LGPPL': 84,\n",
              " 'VIP': 107,\n",
              " 'NHPC': 2045,\n",
              " 'RRVUNL': 1070,\n",
              " 'GIL': 89,\n",
              " 'JPL': 231,\n",
              " 'DIPL': 107,\n",
              " 'DVC': 1070,\n",
              " 'EEL': 107,\n",
              " 'GAUTAMI': 107,\n",
              " 'GEPL': 107,\n",
              " 'GVKP&IL': 263,\n",
              " 'GSEGL': 214,\n",
              " 'IBPIL': 214,\n",
              " 'APCPL': 107,\n",
              " 'RWPL (JSW)': 107,\n",
              " 'JSWEL': 321,\n",
              " 'APGENCO': 2002,\n",
              " 'GMR ENERG': 214,\n",
              " 'JKHPCL': 82,\n",
              " 'ACB': 187,\n",
              " 'VESPL': 107,\n",
              " 'APL': 321,\n",
              " 'KONA': 107,\n",
              " 'KONDAPALI': 237,\n",
              " 'THDC': 214,\n",
              " 'NPC': 588,\n",
              " 'KSEB': 1605,\n",
              " 'ADHUNIK': 107,\n",
              " 'ESSARPMPL': 107,\n",
              " 'JhPL(HR)': 107,\n",
              " 'SMHPCL': 107,\n",
              " 'MPL': 107,\n",
              " 'CPL': 105,\n",
              " 'EPPL': 1,\n",
              " 'CSPGCL': 642,\n",
              " 'AMNEPL': 107,\n",
              " 'CGPL': 107,\n",
              " 'MeECL': 468,\n",
              " 'LANCO': 114,\n",
              " 'GSECL': 1100,\n",
              " 'IPGPCL': 464,\n",
              " 'HPGCL': 369,\n",
              " 'SJVNL': 214,\n",
              " 'SCPL': 107,\n",
              " 'RGPPL': 321,\n",
              " 'NDPL': 107,\n",
              " 'RPSCL': 107,\n",
              " 'EPGL': 107,\n",
              " 'RPL': 84,\n",
              " 'MPPGCL': 1320,\n",
              " 'SEPL': 107,\n",
              " 'HSPCL': 107,\n",
              " 'SEL': 129,\n",
              " 'TOR POW (SUGEN)': 1,\n",
              " 'SVPPL': 107,\n",
              " 'SUL': 67,\n",
              " 'MEL': 107,\n",
              " 'UPCL': 107,\n",
              " 'HPSEB': 535,\n",
              " 'TOR POW (UNOSUGEN)': 4,\n",
              " 'NTECL': 107,\n",
              " 'VVL': 106,\n",
              " 'NTPC Ltd.': 2651,\n",
              " 'E.P.P.L.': 106,\n",
              " 'TOR. POW. (UNOSUGEN)': 479,\n",
              " 'APGCL': 107,\n",
              " 'NALCO': 107,\n",
              " 'MCCPL': 40,\n",
              " 'SKS': 40,\n",
              " 'HEL': 40,\n",
              " 'DEPL': 51,\n",
              " 'NEEPCO.': 696,\n",
              " 'NTPCIR': 22,\n",
              " 'JPPVL': 192,\n",
              " 'TPTCL': 17,\n",
              " 'JHAPL': 40,\n",
              " 'TUL': 40,\n",
              " 'TRNE': 40,\n",
              " 'NLCTNEB': 17,\n",
              " 'RKMPPL': 40,\n",
              " 'HNPC': 40,\n",
              " 'JKSPDC': 113,\n",
              " 'BECL': 23,\n",
              " 'GPGSL (GVK)': 23,\n",
              " 'HPPCL': 34,\n",
              " 'LPGCL': 23,\n",
              " 'SCCL': 23,\n",
              " 'KPCL': 1894,\n",
              " 'BIPL': 12,\n",
              " 'GIPL': 12,\n",
              " 'IEL': 11,\n",
              " 'SrEPL': 12,\n",
              " 'LBPL': 12,\n",
              " 'PGPL': 12,\n",
              " 'TSGENCO': 266,\n",
              " 'SGPL': 12,\n",
              " 'ACPL': 12,\n",
              " 'TOR. POW. (SUGEN)': 106,\n",
              " 'BLAPPL': 40,\n",
              " 'NPL': 40,\n",
              " 'CEPL': 28,\n",
              " 'DPSCLTD': 107,\n",
              " 'BELLARY': 107,\n",
              " 'WBSEDCL': 321,\n",
              " 'UJVNL': 1070,\n",
              " 'UPJVNL': 428,\n",
              " 'P&ED  PUDUCHERRY': 62,\n",
              " 'P&ED Pudu.': 40,\n",
              " 'DLHP': 107,\n",
              " 'ED  MANIPUR': 65,\n",
              " 'ED Manipur': 41,\n",
              " 'ED  MANIIPUR': 1,\n",
              " 'LVS POWER': 107,\n",
              " 'TSECL': 214,\n",
              " 'WBPDC': 749,\n",
              " 'MAHAGENCO': 1819,\n",
              " 'A&N ADM': 107,\n",
              " 'RELIANCE': 107,\n",
              " 'TATA PCL': 428,\n",
              " 'PENNA': 107,\n",
              " 'BBMB': 535,\n",
              " 'DAE': 34,\n",
              " 'JSEB': 196,\n",
              " 'TATA MAH': 4,\n",
              " 'TATA MAH.': 424,\n",
              " 'CESC': 426,\n",
              " 'AHPC (GVK)': 23,\n",
              " 'BSES(C)': 107,\n",
              " 'JK PDD': 72,\n",
              " 'VASAVI': 107,\n",
              " 'BSEB': 107,\n",
              " 'BSES(P)': 107,\n",
              " nan: 0,\n",
              " 'APEPDCL': 18,\n",
              " 'BRBCL': 18,\n",
              " 'RattanIndia': 36,\n",
              " 'PPNPGCL': 107,\n",
              " 'ONGC': 40,\n",
              " 'VEMAGIRI': 107,\n",
              " 'ESSAR': 107,\n",
              " 'MBPMPL': 23,\n",
              " 'PPGCL (Jaypee)': 18,\n",
              " 'GCEL': 23,\n",
              " 'GPPCL': 18,\n",
              " 'GREL': 18,\n",
              " 'NPCIL': 161,\n",
              " 'SSNNL': 214,\n",
              " 'SAMALPATI': 107,\n",
              " 'MADURAI P': 107,\n",
              " 'ICCL': 107,\n",
              " 'GBHPPL': 23,\n",
              " 'GIPCL': 321,\n",
              " 'PSPCL': 749,\n",
              " 'MPCL': 107,\n",
              " 'ABAN POWR': 107,\n",
              " 'STCMSECP': 107,\n",
              " 'OHPC': 561,\n",
              " 'GISL': 18,\n",
              " 'NEEPCO': 6,\n",
              " 'UPRVUNL': 535,\n",
              " 'P&ED PUDUCHERRY': 2,\n",
              " 'P&ED Puducherry': 2,\n",
              " 'GTE CORP': 84,\n",
              " 'P&ED  Puducherry': 1,\n",
              " 'GPE CORP': 23,\n",
              " 'K.B.U.N.L': 98,\n",
              " 'JHPL': 89,\n",
              " 'HBPCL': 36,\n",
              " 'NHDC': 214,\n",
              " 'SPGL': 107,\n",
              " 'KBUNL': 1,\n",
              " 'GMDCL': 107,\n",
              " 'PVUNL': 18,\n",
              " 'DPL': 107,\n",
              " 'ITPCL': 16,\n",
              " 'TVNL': 107,\n",
              " 'OPGC': 107,\n",
              " 'JBTPP': 10,\n",
              " 'RIL (DAHANU)': 107,\n",
              " 'JITPL': 23,\n",
              " 'NTPL': 23,\n",
              " 'JKHCL': 5,\n",
              " 'TSPL': 18,\n",
              " 'JK PDDHPCL': 1,\n",
              " 'APPDCL': 18,\n",
              " 'TPCIL': 23,\n",
              " 'JK  PDDHPCL': 1,\n",
              " 'SPL': 23,\n",
              " 'LVTPL': 6,\n",
              " 'MUNPL': 7,\n",
              " 'NPGCPL': 7,\n",
              " 'NTPGPL': 2,\n",
              " 'IAEPL': 2}"
            ]
          },
          "metadata": {},
          "execution_count": 36
        }
      ]
    },
    {
      "cell_type": "code",
      "source": [
        "sorted_company_data = {k: v for k, v in sorted(company_data.items(), key=lambda item: item[1], reverse=True)}\n",
        "sorted_company_data"
      ],
      "metadata": {
        "colab": {
          "base_uri": "https://localhost:8080/"
        },
        "id": "L5FOXmafmBOU",
        "outputId": "dca9e8d1-7119-4479-f0d2-56e440badea8"
      },
      "execution_count": null,
      "outputs": [
        {
          "output_type": "execute_result",
          "data": {
            "text/plain": [
              "{'TNGDCL': 2889,\n",
              " 'NTPC Ltd.': 2651,\n",
              " 'NHPC': 2045,\n",
              " 'APGENCO': 2002,\n",
              " 'KPCL': 1894,\n",
              " 'MAHAGENCO': 1819,\n",
              " 'KSEB': 1605,\n",
              " 'MPPGCL': 1320,\n",
              " 'GSECL': 1100,\n",
              " 'RRVUNL': 1070,\n",
              " 'DVC': 1070,\n",
              " 'UJVNL': 1070,\n",
              " 'WBPDC': 749,\n",
              " 'PSPCL': 749,\n",
              " 'NEEPCO.': 696,\n",
              " 'CSPGCL': 642,\n",
              " 'NPC': 588,\n",
              " 'OHPC': 561,\n",
              " 'NLC': 542,\n",
              " 'APGPCL': 536,\n",
              " 'BEPL': 535,\n",
              " 'HPSEB': 535,\n",
              " 'BBMB': 535,\n",
              " 'UPRVUNL': 535,\n",
              " 'TOR. POW. (UNOSUGEN)': 479,\n",
              " 'MeECL': 468,\n",
              " 'IPGPCL': 464,\n",
              " 'UPJVNL': 428,\n",
              " 'TATA PCL': 428,\n",
              " 'CESC': 426,\n",
              " 'TATA MAH.': 424,\n",
              " 'HPGCL': 369,\n",
              " 'JSWEL': 321,\n",
              " 'APL': 321,\n",
              " 'RGPPL': 321,\n",
              " 'WBSEDCL': 321,\n",
              " 'GIPCL': 321,\n",
              " 'TSGENCO': 266,\n",
              " 'JK  PDD': 264,\n",
              " 'GVKP&IL': 263,\n",
              " 'KONDAPALI': 237,\n",
              " 'JPL': 231,\n",
              " 'WPCL': 214,\n",
              " 'GSEGL': 214,\n",
              " 'IBPIL': 214,\n",
              " 'GMR ENERG': 214,\n",
              " 'THDC': 214,\n",
              " 'SJVNL': 214,\n",
              " 'TSECL': 214,\n",
              " 'SSNNL': 214,\n",
              " 'NHDC': 214,\n",
              " 'JSEB': 196,\n",
              " 'JPPVL': 192,\n",
              " 'ACB': 187,\n",
              " 'IBPL': 178,\n",
              " 'NPCIL': 161,\n",
              " 'SEL': 129,\n",
              " 'LANCO': 114,\n",
              " 'JKSPDC': 113,\n",
              " 'DBPCL': 110,\n",
              " 'ADHPL': 107,\n",
              " 'LAPPL': 107,\n",
              " 'KWPCL': 107,\n",
              " 'BALCO': 107,\n",
              " 'IEPL': 107,\n",
              " 'NSPCL': 107,\n",
              " 'VIP': 107,\n",
              " 'DIPL': 107,\n",
              " 'EEL': 107,\n",
              " 'GAUTAMI': 107,\n",
              " 'GEPL': 107,\n",
              " 'APCPL': 107,\n",
              " 'RWPL (JSW)': 107,\n",
              " 'VESPL': 107,\n",
              " 'KONA': 107,\n",
              " 'ADHUNIK': 107,\n",
              " 'ESSARPMPL': 107,\n",
              " 'JhPL(HR)': 107,\n",
              " 'SMHPCL': 107,\n",
              " 'MPL': 107,\n",
              " 'AMNEPL': 107,\n",
              " 'CGPL': 107,\n",
              " 'SCPL': 107,\n",
              " 'NDPL': 107,\n",
              " 'RPSCL': 107,\n",
              " 'EPGL': 107,\n",
              " 'SEPL': 107,\n",
              " 'HSPCL': 107,\n",
              " 'SVPPL': 107,\n",
              " 'MEL': 107,\n",
              " 'UPCL': 107,\n",
              " 'NTECL': 107,\n",
              " 'APGCL': 107,\n",
              " 'NALCO': 107,\n",
              " 'DPSCLTD': 107,\n",
              " 'BELLARY': 107,\n",
              " 'DLHP': 107,\n",
              " 'LVS POWER': 107,\n",
              " 'A&N ADM': 107,\n",
              " 'RELIANCE': 107,\n",
              " 'PENNA': 107,\n",
              " 'BSES(C)': 107,\n",
              " 'VASAVI': 107,\n",
              " 'BSEB': 107,\n",
              " 'BSES(P)': 107,\n",
              " 'PPNPGCL': 107,\n",
              " 'VEMAGIRI': 107,\n",
              " 'ESSAR': 107,\n",
              " 'SAMALPATI': 107,\n",
              " 'MADURAI P': 107,\n",
              " 'ICCL': 107,\n",
              " 'MPCL': 107,\n",
              " 'ABAN POWR': 107,\n",
              " 'STCMSECP': 107,\n",
              " 'SPGL': 107,\n",
              " 'GMDCL': 107,\n",
              " 'DPL': 107,\n",
              " 'TVNL': 107,\n",
              " 'OPGC': 107,\n",
              " 'RIL (DAHANU)': 107,\n",
              " 'VVL': 106,\n",
              " 'E.P.P.L.': 106,\n",
              " 'TOR. POW. (SUGEN)': 106,\n",
              " 'CPL': 105,\n",
              " 'K.B.U.N.L': 98,\n",
              " 'GIL': 89,\n",
              " 'JHPL': 89,\n",
              " 'LGPPL': 84,\n",
              " 'RPL': 84,\n",
              " 'GTE CORP': 84,\n",
              " 'JKHPCL': 82,\n",
              " 'BPSCL': 74,\n",
              " 'JK PDD': 72,\n",
              " 'SUL': 67,\n",
              " 'ED  MANIPUR': 65,\n",
              " 'P&ED  PUDUCHERRY': 62,\n",
              " 'DEPL': 51,\n",
              " 'ED Manipur': 41,\n",
              " 'MCCPL': 40,\n",
              " 'SKS': 40,\n",
              " 'HEL': 40,\n",
              " 'JHAPL': 40,\n",
              " 'TUL': 40,\n",
              " 'TRNE': 40,\n",
              " 'RKMPPL': 40,\n",
              " 'HNPC': 40,\n",
              " 'BLAPPL': 40,\n",
              " 'NPL': 40,\n",
              " 'P&ED Pudu.': 40,\n",
              " 'ONGC': 40,\n",
              " 'RattanIndia': 36,\n",
              " 'HBPCL': 36,\n",
              " 'HPPCL': 34,\n",
              " 'DAE': 34,\n",
              " 'CEPL': 28,\n",
              " 'NTPC Ltd': 24,\n",
              " 'BECL': 23,\n",
              " 'GPGSL (GVK)': 23,\n",
              " 'LPGCL': 23,\n",
              " 'SCCL': 23,\n",
              " 'AHPC (GVK)': 23,\n",
              " 'MBPMPL': 23,\n",
              " 'GCEL': 23,\n",
              " 'GBHPPL': 23,\n",
              " 'GPE CORP': 23,\n",
              " 'JITPL': 23,\n",
              " 'NTPL': 23,\n",
              " 'TPCIL': 23,\n",
              " 'SPL': 23,\n",
              " 'NTPCIR': 22,\n",
              " 'APEPDCL': 18,\n",
              " 'BRBCL': 18,\n",
              " 'PPGCL (Jaypee)': 18,\n",
              " 'GPPCL': 18,\n",
              " 'GREL': 18,\n",
              " 'GISL': 18,\n",
              " 'PVUNL': 18,\n",
              " 'TSPL': 18,\n",
              " 'APPDCL': 18,\n",
              " 'TPTCL': 17,\n",
              " 'NLCTNEB': 17,\n",
              " 'ITPCL': 16,\n",
              " 'BIPL': 12,\n",
              " 'GIPL': 12,\n",
              " 'SrEPL': 12,\n",
              " 'LBPL': 12,\n",
              " 'PGPL': 12,\n",
              " 'SGPL': 12,\n",
              " 'ACPL': 12,\n",
              " 'IEL': 11,\n",
              " 'JBTPP': 10,\n",
              " 'MUNPL': 7,\n",
              " 'NPGCPL': 7,\n",
              " 'NEEPCO': 6,\n",
              " 'LVTPL': 6,\n",
              " 'JKHCL': 5,\n",
              " 'TOR POW (UNOSUGEN)': 4,\n",
              " 'TATA MAH': 4,\n",
              " 'P&ED PUDUCHERRY': 2,\n",
              " 'P&ED Puducherry': 2,\n",
              " 'NTPGPL': 2,\n",
              " 'IAEPL': 2,\n",
              " 'EPPL': 1,\n",
              " 'TOR POW (SUGEN)': 1,\n",
              " 'ED  MANIIPUR': 1,\n",
              " 'P&ED  Puducherry': 1,\n",
              " 'KBUNL': 1,\n",
              " 'JK PDDHPCL': 1,\n",
              " 'JK  PDDHPCL': 1,\n",
              " nan: 0}"
            ]
          },
          "metadata": {},
          "execution_count": 37
        }
      ]
    },
    {
      "cell_type": "markdown",
      "source": [
        "#### A10:"
      ],
      "metadata": {
        "id": "U7DmZ7DfqHZ6"
      }
    },
    {
      "cell_type": "code",
      "source": [
        "for i, company in enumerate(sorted_company_data):\n",
        "    if i == 10:\n",
        "        break\n",
        "    print(f\"{i+1} : {company} with {sorted_company_data[company]} coal plants\")"
      ],
      "metadata": {
        "colab": {
          "base_uri": "https://localhost:8080/"
        },
        "id": "Vs_WHB9jmgT9",
        "outputId": "8d4bde57-2bdc-4e58-85c5-b6fc7cf41d44"
      },
      "execution_count": null,
      "outputs": [
        {
          "output_type": "stream",
          "name": "stdout",
          "text": [
            "1 : TNGDCL with 2889 coal plants\n",
            "2 : NTPC Ltd. with 2651 coal plants\n",
            "3 : NHPC with 2045 coal plants\n",
            "4 : APGENCO with 2002 coal plants\n",
            "5 : KPCL with 1894 coal plants\n",
            "6 : MAHAGENCO with 1819 coal plants\n",
            "7 : KSEB with 1605 coal plants\n",
            "8 : MPPGCL with 1320 coal plants\n",
            "9 : GSECL with 1100 coal plants\n",
            "10 : RRVUNL with 1070 coal plants\n"
          ]
        }
      ]
    },
    {
      "cell_type": "markdown",
      "source": [
        "### Q11: What is the amount of installed capacity of energy per state"
      ],
      "metadata": {
        "id": "K1ULxdBpnDmF"
      }
    },
    {
      "cell_type": "code",
      "source": [
        "installed_capacity = {state: 0 for state in states}\n",
        "for state in states:\n",
        "  installed_capacity[state] = df.loc[df['State'] == state]['Installed Capacity'].sum().round(2)\n",
        "installed_capacity"
      ],
      "metadata": {
        "colab": {
          "base_uri": "https://localhost:8080/"
        },
        "id": "vCi-nbe4npRE",
        "outputId": "ede6b699-c2fe-4f6a-8442-8f100d7aaa67"
      },
      "execution_count": null,
      "outputs": [
        {
          "output_type": "execute_result",
          "data": {
            "text/plain": [
              "{'Chhattisgarh': 1205254.0,\n",
              " 'Himachal Pradesh': 398970.85,\n",
              " 'Maharashtra': 2365299.0,\n",
              " 'Uttar Pradesh': 2005771.62,\n",
              " 'Jammu Kashmir': 282094.0,\n",
              " 'Bihar': 341300.0,\n",
              " 'Rajasthan': 692437.59,\n",
              " 'Tamil Nadu': 1394109.01,\n",
              " 'Madhya Pradesh': 1295150.0,\n",
              " 'Assam': 81876.55,\n",
              " 'Sikkim': 69877.0,\n",
              " 'Odisha': 911538.25,\n",
              " 'West Bengal': 1529812.4,\n",
              " 'Andhra Pradesh': 929032.8,\n",
              " 'Punjab': 812657.6,\n",
              " 'Gujarat': 2083877.75,\n",
              " 'Haryana': 527986.21,\n",
              " 'Telangana': 918945.0,\n",
              " 'Jharkhand': 509395.0,\n",
              " 'Uttarakhand': 281477.85,\n",
              " 'Kerala': 281053.78,\n",
              " 'Meghalaya': 24177.0,\n",
              " 'Ladakh': 1800.0,\n",
              " 'Delhi': 259350.6,\n",
              " 'Karnataka': 977240.02,\n",
              " 'Tripura': 132805.3,\n",
              " 'Arunachal Pradesh': 755.0,\n",
              " 'Puducherry': 3773.5,\n",
              " 'Manipur': 3852.0,\n",
              " 'Andaman And Nicobar Islands': 8249.95,\n",
              " 'Goa': 5136.0,\n",
              " 'New Delhi': 84.0,\n",
              " 'Mizoram': 0.0}"
            ]
          },
          "metadata": {},
          "execution_count": 39
        }
      ]
    },
    {
      "cell_type": "code",
      "source": [
        "installed_capacity = {k: v for k, v in sorted(installed_capacity.items(), key=lambda item: item[1], reverse=True)}\n",
        "installed_capacity"
      ],
      "metadata": {
        "colab": {
          "base_uri": "https://localhost:8080/"
        },
        "id": "iP5j60mRo8pM",
        "outputId": "b05c16c1-f164-4172-f31f-9c1de97dc087"
      },
      "execution_count": null,
      "outputs": [
        {
          "output_type": "execute_result",
          "data": {
            "text/plain": [
              "{'Maharashtra': 2365299.0,\n",
              " 'Gujarat': 2083877.75,\n",
              " 'Uttar Pradesh': 2005771.62,\n",
              " 'West Bengal': 1529812.4,\n",
              " 'Tamil Nadu': 1394109.01,\n",
              " 'Madhya Pradesh': 1295150.0,\n",
              " 'Chhattisgarh': 1205254.0,\n",
              " 'Karnataka': 977240.02,\n",
              " 'Andhra Pradesh': 929032.8,\n",
              " 'Telangana': 918945.0,\n",
              " 'Odisha': 911538.25,\n",
              " 'Punjab': 812657.6,\n",
              " 'Rajasthan': 692437.59,\n",
              " 'Haryana': 527986.21,\n",
              " 'Jharkhand': 509395.0,\n",
              " 'Himachal Pradesh': 398970.85,\n",
              " 'Bihar': 341300.0,\n",
              " 'Jammu Kashmir': 282094.0,\n",
              " 'Uttarakhand': 281477.85,\n",
              " 'Kerala': 281053.78,\n",
              " 'Delhi': 259350.6,\n",
              " 'Tripura': 132805.3,\n",
              " 'Assam': 81876.55,\n",
              " 'Sikkim': 69877.0,\n",
              " 'Meghalaya': 24177.0,\n",
              " 'Andaman And Nicobar Islands': 8249.95,\n",
              " 'Goa': 5136.0,\n",
              " 'Manipur': 3852.0,\n",
              " 'Puducherry': 3773.5,\n",
              " 'Ladakh': 1800.0,\n",
              " 'Arunachal Pradesh': 755.0,\n",
              " 'New Delhi': 84.0,\n",
              " 'Mizoram': 0.0}"
            ]
          },
          "metadata": {},
          "execution_count": 40
        }
      ]
    },
    {
      "cell_type": "markdown",
      "source": [
        "#### A11:"
      ],
      "metadata": {
        "id": "ad8eXmS9qKlU"
      }
    },
    {
      "cell_type": "code",
      "source": [
        "fig = plt.figure(figsize=(10, 5))\n",
        "plt.bar(list(installed_capacity.keys()), list(installed_capacity.values()))\n",
        "plt.xlabel(\"State\")\n",
        "plt.ylabel(\"Installed Capacity\")\n",
        "plt.xticks(rotation='vertical')"
      ],
      "metadata": {
        "colab": {
          "base_uri": "https://localhost:8080/",
          "height": 1000
        },
        "id": "SjWcimPbooOw",
        "outputId": "9e782931-f79e-45f4-a49a-d5c2e1a249c9"
      },
      "execution_count": null,
      "outputs": [
        {
          "output_type": "execute_result",
          "data": {
            "text/plain": [
              "([0,\n",
              "  1,\n",
              "  2,\n",
              "  3,\n",
              "  4,\n",
              "  5,\n",
              "  6,\n",
              "  7,\n",
              "  8,\n",
              "  9,\n",
              "  10,\n",
              "  11,\n",
              "  12,\n",
              "  13,\n",
              "  14,\n",
              "  15,\n",
              "  16,\n",
              "  17,\n",
              "  18,\n",
              "  19,\n",
              "  20,\n",
              "  21,\n",
              "  22,\n",
              "  23,\n",
              "  24,\n",
              "  25,\n",
              "  26,\n",
              "  27,\n",
              "  28,\n",
              "  29,\n",
              "  30,\n",
              "  31,\n",
              "  32],\n",
              " [Text(0, 0, 'Maharashtra'),\n",
              "  Text(1, 0, 'Gujarat'),\n",
              "  Text(2, 0, 'Uttar Pradesh'),\n",
              "  Text(3, 0, 'West Bengal'),\n",
              "  Text(4, 0, 'Tamil Nadu'),\n",
              "  Text(5, 0, 'Madhya Pradesh'),\n",
              "  Text(6, 0, 'Chhattisgarh'),\n",
              "  Text(7, 0, 'Karnataka'),\n",
              "  Text(8, 0, 'Andhra Pradesh'),\n",
              "  Text(9, 0, 'Telangana'),\n",
              "  Text(10, 0, 'Odisha'),\n",
              "  Text(11, 0, 'Punjab'),\n",
              "  Text(12, 0, 'Rajasthan'),\n",
              "  Text(13, 0, 'Haryana'),\n",
              "  Text(14, 0, 'Jharkhand'),\n",
              "  Text(15, 0, 'Himachal Pradesh'),\n",
              "  Text(16, 0, 'Bihar'),\n",
              "  Text(17, 0, 'Jammu Kashmir'),\n",
              "  Text(18, 0, 'Uttarakhand'),\n",
              "  Text(19, 0, 'Kerala'),\n",
              "  Text(20, 0, 'Delhi'),\n",
              "  Text(21, 0, 'Tripura'),\n",
              "  Text(22, 0, 'Assam'),\n",
              "  Text(23, 0, 'Sikkim'),\n",
              "  Text(24, 0, 'Meghalaya'),\n",
              "  Text(25, 0, 'Andaman And Nicobar Islands'),\n",
              "  Text(26, 0, 'Goa'),\n",
              "  Text(27, 0, 'Manipur'),\n",
              "  Text(28, 0, 'Puducherry'),\n",
              "  Text(29, 0, 'Ladakh'),\n",
              "  Text(30, 0, 'Arunachal Pradesh'),\n",
              "  Text(31, 0, 'New Delhi'),\n",
              "  Text(32, 0, 'Mizoram')])"
            ]
          },
          "metadata": {},
          "execution_count": 41
        },
        {
          "output_type": "display_data",
          "data": {
            "text/plain": [
              "<Figure size 1000x500 with 1 Axes>"
            ],
            "image/png": "[encoded data removed]"
          },
          "metadata": {}
        }
      ]
    },
    {
      "cell_type": "markdown",
      "source": [
        "## Q2: Seeing high levels of pollution in the country, you get curious about the trends in pollution and try to correlate it with the dataset for power plants you are given. How would you go about doing that? Is the current dataset sufficient to identify pollution trends? If not, what additional data would you need, and where would you obtain it? List the potential sources for acquiring this necessary data."
      ],
      "metadata": {
        "id": "h4i4UfLHrqNA"
      }
    },
    {
      "cell_type": "markdown",
      "source": [
        "* Pollution is caused by various sources like combustion devices, motor vehicles, industrial facilites, forest fires, etc.\n",
        "\n",
        "* But if we look into the distribution of pollution caused by these sources we find that **75.80% of green house gas emmisions is due to Energy Production**.\n",
        "\n",
        "* Source - https://www.downtoearth.org.in/blog/pollution/5-rise-in-india-s-ghg-emissions-since-2016-driven-by-energy-industrial-sectors-94076\n",
        "\n",
        "* So it is fair to approximate the trends in pollution to correspond to the amount of emissions released by these energy plants.\n",
        "\n",
        "* The current dataset can give us an approximate of the amount of GHG emissions which correlates to the amount of pollution in India.\n",
        "\n",
        "* Although if additional data about IPPU, Agriculture, Waste and Vehicle emissions is given, we can formulate a better approximation."
      ],
      "metadata": {
        "id": "76Z5sH_9r8AG"
      }
    },
    {
      "cell_type": "markdown",
      "source": [
        "The amount of GHG emissions produced by the energy plants are:\n",
        "* Thermal Plants - 584 g CO2/kWh\n",
        "* Hydro Plants - 23 g CO2/kWh\n",
        "* Nuclear Plants - 4 g CO2/kWh\n",
        "\n",
        "Sources\n",
        "* https://teriin.org/index.php/research-paper/assessment-greenhouse-gas-emissions-coal-and-natural-gas-thermal-power-plants-using#:~:text=The%20total%20GHG%20emission%20from,CO2%20eq%2FkWh%20electricity%20generation\n",
        "* https://www.hydropower.org/factsheets/greenhouse-gas-emissions#:~:text=The%20results%20published%20in%20Water,consistent%20with%20the%20IPCC%20findings\n",
        "* https://www.carbonbrief.org/solar-wind-nuclear-amazingly-low-carbon-footprints/"
      ],
      "metadata": {
        "id": "Y_IijUJctHfY"
      }
    },
    {
      "cell_type": "markdown",
      "source": [
        "### Let's calculate the distibution of GHG emmisions by the States of India"
      ],
      "metadata": {
        "id": "NkfsLdlexrAK"
      }
    },
    {
      "cell_type": "code",
      "source": [
        "def assign_ghg_emission(category):\n",
        "    if category == 'THERMAL':\n",
        "        return 584\n",
        "    elif category == 'HYDRO':\n",
        "        return 23\n",
        "    else:\n",
        "        return 4\n",
        "df['GHG Emission'] = df['Category of Plant'].apply(assign_ghg_emission)\n",
        "df.head(5)"
      ],
      "metadata": {
        "colab": {
          "base_uri": "https://localhost:8080/",
          "height": 672
        },
        "id": "KFGk_CCAyfS0",
        "outputId": "5e5120e5-8e3c-477c-95b8-2e917d234854"
      },
      "execution_count": null,
      "outputs": [
        {
          "output_type": "execute_result",
          "data": {
            "text/plain": [
              "   ROWID Country  State LGD Code             State  Actual energy generated  \\\n",
              "0      1   India              22      Chhattisgarh                      0.0   \n",
              "1      2   India               2  Himachal Pradesh                      0.0   \n",
              "2      3   India              27       Maharashtra                      0.0   \n",
              "3      4   India               9     Uttar Pradesh                      0.0   \n",
              "4      5   India              22      Chhattisgarh                      0.0   \n",
              "\n",
              "  Category of Plant Type of fuel used  Installed Capacity  \\\n",
              "0           THERMAL              COAL                 0.0   \n",
              "1             HYDRO             HYDRO                 0.0   \n",
              "2           THERMAL              COAL                 0.0   \n",
              "3           THERMAL              COAL                 0.0   \n",
              "4           THERMAL              COAL                 0.0   \n",
              "\n",
              "   Generation Programme is prepared by CEA    Region  ...  \\\n",
              "0                                      0.0   WESTERN  ...   \n",
              "1                                      0.0  NORTHERN  ...   \n",
              "2                                      0.0   WESTERN  ...   \n",
              "3                                      0.0  NORTHERN  ...   \n",
              "4                                      0.0   WESTERN  ...   \n",
              "\n",
              "  Sector of power plant Name of coal company          Station Name  \\\n",
              "0           PRIVATE IPP                 WPCL          AKALTARA TPS   \n",
              "1           PRIVATE IPP                ADHPL  ALLAIN DUHANGAN  HPS   \n",
              "2           PRIVATE IPP                 IBPL         AMARAVATI TPS   \n",
              "3           PRIVATE IPP                LAPPL          ANPARA C TPS   \n",
              "4           PRIVATE IPP                KWPCL       AVANTHA BHANDAR   \n",
              "\n",
              "  SourceMonth SourceYear  YearCode                             Year MonthCode  \\\n",
              "0  Apr - 2008       2008      2008  Calendar Year (Jan - Dec), 2008    200804   \n",
              "1  Apr - 2008       2008      2008  Calendar Year (Jan - Dec), 2008    200804   \n",
              "2  Apr - 2008       2008      2008  Calendar Year (Jan - Dec), 2008    200804   \n",
              "3  Apr - 2008       2008      2008  Calendar Year (Jan - Dec), 2008    200804   \n",
              "4  Apr - 2008       2008      2008  Calendar Year (Jan - Dec), 2008    200804   \n",
              "\n",
              "         Month GHG Emission  \n",
              "0  April, 2008          584  \n",
              "1  April, 2008           23  \n",
              "2  April, 2008          584  \n",
              "3  April, 2008          584  \n",
              "4  April, 2008          584  \n",
              "\n",
              "[5 rows x 21 columns]"
            ],
            "text/html": [
              "\n",
              "  <div id=\"df-9e2d6d2d-e018-4862-a312-017e61c08c32\" class=\"colab-df-container\">\n",
              "    <div>\n",
              "<style scoped>\n",
              "    .dataframe tbody tr th:only-of-type {\n",
              "        vertical-align: middle;\n",
              "    }\n",
              "\n",
              "    .dataframe tbody tr th {\n",
              "        vertical-align: top;\n",
              "    }\n",
              "\n",
              "    .dataframe thead th {\n",
              "        text-align: right;\n",
              "    }\n",
              "</style>\n",
              "<table border=\"1\" class=\"dataframe\">\n",
              "  <thead>\n",
              "    <tr style=\"text-align: right;\">\n",
              "      <th></th>\n",
              "      <th>ROWID</th>\n",
              "      <th>Country</th>\n",
              "      <th>State LGD Code</th>\n",
              "      <th>State</th>\n",
              "      <th>Actual energy generated</th>\n",
              "      <th>Category of Plant</th>\n",
              "      <th>Type of fuel used</th>\n",
              "      <th>Installed Capacity</th>\n",
              "      <th>Generation Programme is prepared by CEA</th>\n",
              "      <th>Region</th>\n",
              "      <th>...</th>\n",
              "      <th>Sector of power plant</th>\n",
              "      <th>Name of coal company</th>\n",
              "      <th>Station Name</th>\n",
              "      <th>SourceMonth</th>\n",
              "      <th>SourceYear</th>\n",
              "      <th>YearCode</th>\n",
              "      <th>Year</th>\n",
              "      <th>MonthCode</th>\n",
              "      <th>Month</th>\n",
              "      <th>GHG Emission</th>\n",
              "    </tr>\n",
              "  </thead>\n",
              "  <tbody>\n",
              "    <tr>\n",
              "      <th>0</th>\n",
              "      <td>1</td>\n",
              "      <td>India</td>\n",
              "      <td>22</td>\n",
              "      <td>Chhattisgarh</td>\n",
              "      <td>0.0</td>\n",
              "      <td>THERMAL</td>\n",
              "      <td>COAL</td>\n",
              "      <td>0.0</td>\n",
              "      <td>0.0</td>\n",
              "      <td>WESTERN</td>\n",
              "      <td>...</td>\n",
              "      <td>PRIVATE IPP</td>\n",
              "      <td>WPCL</td>\n",
              "      <td>AKALTARA TPS</td>\n",
              "      <td>Apr - 2008</td>\n",
              "      <td>2008</td>\n",
              "      <td>2008</td>\n",
              "      <td>Calendar Year (Jan - Dec), 2008</td>\n",
              "      <td>200804</td>\n",
              "      <td>April, 2008</td>\n",
              "      <td>584</td>\n",
              "    </tr>\n",
              "    <tr>\n",
              "      <th>1</th>\n",
              "      <td>2</td>\n",
              "      <td>India</td>\n",
              "      <td>2</td>\n",
              "      <td>Himachal Pradesh</td>\n",
              "      <td>0.0</td>\n",
              "      <td>HYDRO</td>\n",
              "      <td>HYDRO</td>\n",
              "      <td>0.0</td>\n",
              "      <td>0.0</td>\n",
              "      <td>NORTHERN</td>\n",
              "      <td>...</td>\n",
              "      <td>PRIVATE IPP</td>\n",
              "      <td>ADHPL</td>\n",
              "      <td>ALLAIN DUHANGAN  HPS</td>\n",
              "      <td>Apr - 2008</td>\n",
              "      <td>2008</td>\n",
              "      <td>2008</td>\n",
              "      <td>Calendar Year (Jan - Dec), 2008</td>\n",
              "      <td>200804</td>\n",
              "      <td>April, 2008</td>\n",
              "      <td>23</td>\n",
              "    </tr>\n",
              "    <tr>\n",
              "      <th>2</th>\n",
              "      <td>3</td>\n",
              "      <td>India</td>\n",
              "      <td>27</td>\n",
              "      <td>Maharashtra</td>\n",
              "      <td>0.0</td>\n",
              "      <td>THERMAL</td>\n",
              "      <td>COAL</td>\n",
              "      <td>0.0</td>\n",
              "      <td>0.0</td>\n",
              "      <td>WESTERN</td>\n",
              "      <td>...</td>\n",
              "      <td>PRIVATE IPP</td>\n",
              "      <td>IBPL</td>\n",
              "      <td>AMARAVATI TPS</td>\n",
              "      <td>Apr - 2008</td>\n",
              "      <td>2008</td>\n",
              "      <td>2008</td>\n",
              "      <td>Calendar Year (Jan - Dec), 2008</td>\n",
              "      <td>200804</td>\n",
              "      <td>April, 2008</td>\n",
              "      <td>584</td>\n",
              "    </tr>\n",
              "    <tr>\n",
              "      <th>3</th>\n",
              "      <td>4</td>\n",
              "      <td>India</td>\n",
              "      <td>9</td>\n",
              "      <td>Uttar Pradesh</td>\n",
              "      <td>0.0</td>\n",
              "      <td>THERMAL</td>\n",
              "      <td>COAL</td>\n",
              "      <td>0.0</td>\n",
              "      <td>0.0</td>\n",
              "      <td>NORTHERN</td>\n",
              "      <td>...</td>\n",
              "      <td>PRIVATE IPP</td>\n",
              "      <td>LAPPL</td>\n",
              "      <td>ANPARA C TPS</td>\n",
              "      <td>Apr - 2008</td>\n",
              "      <td>2008</td>\n",
              "      <td>2008</td>\n",
              "      <td>Calendar Year (Jan - Dec), 2008</td>\n",
              "      <td>200804</td>\n",
              "      <td>April, 2008</td>\n",
              "      <td>584</td>\n",
              "    </tr>\n",
              "    <tr>\n",
              "      <th>4</th>\n",
              "      <td>5</td>\n",
              "      <td>India</td>\n",
              "      <td>22</td>\n",
              "      <td>Chhattisgarh</td>\n",
              "      <td>0.0</td>\n",
              "      <td>THERMAL</td>\n",
              "      <td>COAL</td>\n",
              "      <td>0.0</td>\n",
              "      <td>0.0</td>\n",
              "      <td>WESTERN</td>\n",
              "      <td>...</td>\n",
              "      <td>PRIVATE IPP</td>\n",
              "      <td>KWPCL</td>\n",
              "      <td>AVANTHA BHANDAR</td>\n",
              "      <td>Apr - 2008</td>\n",
              "      <td>2008</td>\n",
              "      <td>2008</td>\n",
              "      <td>Calendar Year (Jan - Dec), 2008</td>\n",
              "      <td>200804</td>\n",
              "      <td>April, 2008</td>\n",
              "      <td>584</td>\n",
              "    </tr>\n",
              "  </tbody>\n",
              "</table>\n",
              "<p>5 rows × 21 columns</p>\n",
              "</div>\n",
              "    <div class=\"colab-df-buttons\">\n",
              "\n",
              "  <div class=\"colab-df-container\">\n",
              "    <button class=\"colab-df-convert\" onclick=\"convertToInteractive('df-9e2d6d2d-e018-4862-a312-017e61c08c32')\"\n",
              "            title=\"Convert this dataframe to an interactive table.\"\n",
              "            style=\"display:none;\">\n",
              "\n",
              "  <svg xmlns=\"http://www.w3.org/2000/svg\" height=\"24px\" viewBox=\"0 -960 960 960\">\n",
              "    <path d=\"M120-120v-720h720v720H120Zm60-500h600v-160H180v160Zm220 220h160v-160H400v160Zm0 220h160v-160H400v160ZM180-400h160v-160H180v160Zm440 0h160v-160H620v160ZM180-180h160v-160H180v160Zm440 0h160v-160H620v160Z\"/>\n",
              "  </svg>\n",
              "    </button>\n",
              "\n",
              "  <style>\n",
              "    .colab-df-container {\n",
              "      display:flex;\n",
              "      gap: 12px;\n",
              "    }\n",
              "\n",
              "    .colab-df-convert {\n",
              "      background-color: #E8F0FE;\n",
              "      border: none;\n",
              "      border-radius: 50%;\n",
              "      cursor: pointer;\n",
              "      display: none;\n",
              "      fill: #1967D2;\n",
              "      height: 32px;\n",
              "      padding: 0 0 0 0;\n",
              "      width: 32px;\n",
              "    }\n",
              "\n",
              "    .colab-df-convert:hover {\n",
              "      background-color: #E2EBFA;\n",
              "      box-shadow: 0px 1px 2px rgba(60, 64, 67, 0.3), 0px 1px 3px 1px rgba(60, 64, 67, 0.15);\n",
              "      fill: #174EA6;\n",
              "    }\n",
              "\n",
              "    .colab-df-buttons div {\n",
              "      margin-bottom: 4px;\n",
              "    }\n",
              "\n",
              "    [theme=dark] .colab-df-convert {\n",
              "      background-color: #3B4455;\n",
              "      fill: #D2E3FC;\n",
              "    }\n",
              "\n",
              "    [theme=dark] .colab-df-convert:hover {\n",
              "      background-color: #434B5C;\n",
              "      box-shadow: 0px 1px 3px 1px rgba(0, 0, 0, 0.15);\n",
              "      filter: drop-shadow(0px 1px 2px rgba(0, 0, 0, 0.3));\n",
              "      fill: #FFFFFF;\n",
              "    }\n",
              "  </style>\n",
              "\n",
              "    <script>\n",
              "      const buttonEl =\n",
              "        document.querySelector('#df-9e2d6d2d-e018-4862-a312-017e61c08c32 button.colab-df-convert');\n",
              "      buttonEl.style.display =\n",
              "        google.colab.kernel.accessAllowed ? 'block' : 'none';\n",
              "\n",
              "      async function convertToInteractive(key) {\n",
              "        const element = document.querySelector('#df-9e2d6d2d-e018-4862-a312-017e61c08c32');\n",
              "        const dataTable =\n",
              "          await google.colab.kernel.invokeFunction('convertToInteractive',\n",
              "                                                    [key], {});\n",
              "        if (!dataTable) return;\n",
              "\n",
              "        const docLinkHtml = 'Like what you see? Visit the ' +\n",
              "          '<a target=\"_blank\" href=https://colab.research.google.com/notebooks/data_table.ipynb>data table notebook</a>'\n",
              "          + ' to learn more about interactive tables.';\n",
              "        element.innerHTML = '';\n",
              "        dataTable['output_type'] = 'display_data';\n",
              "        await google.colab.output.renderOutput(dataTable, element);\n",
              "        const docLink = document.createElement('div');\n",
              "        docLink.innerHTML = docLinkHtml;\n",
              "        element.appendChild(docLink);\n",
              "      }\n",
              "    </script>\n",
              "  </div>\n",
              "\n",
              "\n",
              "<div id=\"df-9139892d-8883-4472-b1a8-1cda705e172b\">\n",
              "  <button class=\"colab-df-quickchart\" onclick=\"quickchart('df-9139892d-8883-4472-b1a8-1cda705e172b')\"\n",
              "            title=\"Suggest charts\"\n",
              "            style=\"display:none;\">\n",
              "\n",
              "<svg xmlns=\"http://www.w3.org/2000/svg\" height=\"24px\"viewBox=\"0 0 24 24\"\n",
              "     width=\"24px\">\n",
              "    <g>\n",
              "        <path d=\"M19 3H5c-1.1 0-2 .9-2 2v14c0 1.1.9 2 2 2h14c1.1 0 2-.9 2-2V5c0-1.1-.9-2-2-2zM9 17H7v-7h2v7zm4 0h-2V7h2v10zm4 0h-2v-4h2v4z\"/>\n",
              "    </g>\n",
              "</svg>\n",
              "  </button>\n",
              "\n",
              "<style>\n",
              "  .colab-df-quickchart {\n",
              "      --bg-color: #E8F0FE;\n",
              "      --fill-color: #1967D2;\n",
              "      --hover-bg-color: #E2EBFA;\n",
              "      --hover-fill-color: #174EA6;\n",
              "      --disabled-fill-color: #AAA;\n",
              "      --disabled-bg-color: #DDD;\n",
              "  }\n",
              "\n",
              "  [theme=dark] .colab-df-quickchart {\n",
              "      --bg-color: #3B4455;\n",
              "      --fill-color: #D2E3FC;\n",
              "      --hover-bg-color: #434B5C;\n",
              "      --hover-fill-color: #FFFFFF;\n",
              "      --disabled-bg-color: #3B4455;\n",
              "      --disabled-fill-color: #666;\n",
              "  }\n",
              "\n",
              "  .colab-df-quickchart {\n",
              "    background-color: var(--bg-color);\n",
              "    border: none;\n",
              "    border-radius: 50%;\n",
              "    cursor: pointer;\n",
              "    display: none;\n",
              "    fill: var(--fill-color);\n",
              "    height: 32px;\n",
              "    padding: 0;\n",
              "    width: 32px;\n",
              "  }\n",
              "\n",
              "  .colab-df-quickchart:hover {\n",
              "    background-color: var(--hover-bg-color);\n",
              "    box-shadow: 0 1px 2px rgba(60, 64, 67, 0.3), 0 1px 3px 1px rgba(60, 64, 67, 0.15);\n",
              "    fill: var(--button-hover-fill-color);\n",
              "  }\n",
              "\n",
              "  .colab-df-quickchart-complete:disabled,\n",
              "  .colab-df-quickchart-complete:disabled:hover {\n",
              "    background-color: var(--disabled-bg-color);\n",
              "    fill: var(--disabled-fill-color);\n",
              "    box-shadow: none;\n",
              "  }\n",
              "\n",
              "  .colab-df-spinner {\n",
              "    border: 2px solid var(--fill-color);\n",
              "    border-color: transparent;\n",
              "    border-bottom-color: var(--fill-color);\n",
              "    animation:\n",
              "      spin 1s steps(1) infinite;\n",
              "  }\n",
              "\n",
              "  @keyframes spin {\n",
              "    0% {\n",
              "      border-color: transparent;\n",
              "      border-bottom-color: var(--fill-color);\n",
              "      border-left-color: var(--fill-color);\n",
              "    }\n",
              "    20% {\n",
              "      border-color: transparent;\n",
              "      border-left-color: var(--fill-color);\n",
              "      border-top-color: var(--fill-color);\n",
              "    }\n",
              "    30% {\n",
              "      border-color: transparent;\n",
              "      border-left-color: var(--fill-color);\n",
              "      border-top-color: var(--fill-color);\n",
              "      border-right-color: var(--fill-color);\n",
              "    }\n",
              "    40% {\n",
              "      border-color: transparent;\n",
              "      border-right-color: var(--fill-color);\n",
              "      border-top-color: var(--fill-color);\n",
              "    }\n",
              "    60% {\n",
              "      border-color: transparent;\n",
              "      border-right-color: var(--fill-color);\n",
              "    }\n",
              "    80% {\n",
              "      border-color: transparent;\n",
              "      border-right-color: var(--fill-color);\n",
              "      border-bottom-color: var(--fill-color);\n",
              "    }\n",
              "    90% {\n",
              "      border-color: transparent;\n",
              "      border-bottom-color: var(--fill-color);\n",
              "    }\n",
              "  }\n",
              "</style>\n",
              "\n",
              "  <script>\n",
              "    async function quickchart(key) {\n",
              "      const quickchartButtonEl =\n",
              "        document.querySelector('#' + key + ' button');\n",
              "      quickchartButtonEl.disabled = true;  // To prevent multiple clicks.\n",
              "      quickchartButtonEl.classList.add('colab-df-spinner');\n",
              "      try {\n",
              "        const charts = await google.colab.kernel.invokeFunction(\n",
              "            'suggestCharts', [key], {});\n",
              "      } catch (error) {\n",
              "        console.error('Error during call to suggestCharts:', error);\n",
              "      }\n",
              "      quickchartButtonEl.classList.remove('colab-df-spinner');\n",
              "      quickchartButtonEl.classList.add('colab-df-quickchart-complete');\n",
              "    }\n",
              "    (() => {\n",
              "      let quickchartButtonEl =\n",
              "        document.querySelector('#df-9139892d-8883-4472-b1a8-1cda705e172b button');\n",
              "      quickchartButtonEl.style.display =\n",
              "        google.colab.kernel.accessAllowed ? 'block' : 'none';\n",
              "    })();\n",
              "  </script>\n",
              "</div>\n",
              "\n",
              "    </div>\n",
              "  </div>\n"
            ],
            "application/vnd.google.colaboratory.intrinsic+json": {
              "type": "dataframe",
              "variable_name": "df"
            }
          },
          "metadata": {},
          "execution_count": 42
        }
      ]
    },
    {
      "cell_type": "code",
      "source": [
        "emission_states = {state: df.loc[df['State'] == state]['GHG Emission'].sum() for state in states}\n",
        "emission_states"
      ],
      "metadata": {
        "colab": {
          "base_uri": "https://localhost:8080/"
        },
        "id": "tZzuRXigxsFY",
        "outputId": "ad6ed848-9a11-43c7-f81d-1b371a071f2d"
      },
      "execution_count": null,
      "outputs": [
        {
          "output_type": "execute_result",
          "data": {
            "text/plain": [
              "{'Chhattisgarh': 1385957,\n",
              " 'Himachal Pradesh': 40848,\n",
              " 'Maharashtra': 1677090,\n",
              " 'Uttar Pradesh': 1241741,\n",
              " 'Jammu Kashmir': 85396,\n",
              " 'Bihar': 283824,\n",
              " 'Rajasthan': 694887,\n",
              " 'Tamil Nadu': 1412579,\n",
              " 'Madhya Pradesh': 635015,\n",
              " 'Assam': 328917,\n",
              " 'Sikkim': 9476,\n",
              " 'Odisha': 644791,\n",
              " 'West Bengal': 1174670,\n",
              " 'Andhra Pradesh': 1042440,\n",
              " 'Punjab': 318821,\n",
              " 'Gujarat': 1708544,\n",
              " 'Haryana': 402960,\n",
              " 'Telangana': 362870,\n",
              " 'Jharkhand': 638437,\n",
              " 'Uttarakhand': 53017,\n",
              " 'Kerala': 281945,\n",
              " 'Meghalaya': 10764,\n",
              " 'Ladakh': 2461,\n",
              " 'Delhi': 395952,\n",
              " 'Karnataka': 554670,\n",
              " 'Tripura': 245104,\n",
              " 'Arunachal Pradesh': 414,\n",
              " 'Puducherry': 62488,\n",
              " 'Manipur': 62488,\n",
              " 'Andaman And Nicobar Islands': 62488,\n",
              " 'Goa': 62488,\n",
              " 'New Delhi': 584,\n",
              " 'Mizoram': 69}"
            ]
          },
          "metadata": {},
          "execution_count": 43
        }
      ]
    },
    {
      "cell_type": "code",
      "source": [
        "emission_states = {k: v for k, v in sorted(emission_states.items(), key=lambda item: item[1], reverse=True)}\n",
        "emission_states"
      ],
      "metadata": {
        "colab": {
          "base_uri": "https://localhost:8080/"
        },
        "id": "0mk8EU-azx1b",
        "outputId": "e22ddfcb-2aff-405f-8b95-86fc24c87244"
      },
      "execution_count": null,
      "outputs": [
        {
          "output_type": "execute_result",
          "data": {
            "text/plain": [
              "{'Gujarat': 1708544,\n",
              " 'Maharashtra': 1677090,\n",
              " 'Tamil Nadu': 1412579,\n",
              " 'Chhattisgarh': 1385957,\n",
              " 'Uttar Pradesh': 1241741,\n",
              " 'West Bengal': 1174670,\n",
              " 'Andhra Pradesh': 1042440,\n",
              " 'Rajasthan': 694887,\n",
              " 'Odisha': 644791,\n",
              " 'Jharkhand': 638437,\n",
              " 'Madhya Pradesh': 635015,\n",
              " 'Karnataka': 554670,\n",
              " 'Haryana': 402960,\n",
              " 'Delhi': 395952,\n",
              " 'Telangana': 362870,\n",
              " 'Assam': 328917,\n",
              " 'Punjab': 318821,\n",
              " 'Bihar': 283824,\n",
              " 'Kerala': 281945,\n",
              " 'Tripura': 245104,\n",
              " 'Jammu Kashmir': 85396,\n",
              " 'Puducherry': 62488,\n",
              " 'Manipur': 62488,\n",
              " 'Andaman And Nicobar Islands': 62488,\n",
              " 'Goa': 62488,\n",
              " 'Uttarakhand': 53017,\n",
              " 'Himachal Pradesh': 40848,\n",
              " 'Meghalaya': 10764,\n",
              " 'Sikkim': 9476,\n",
              " 'Ladakh': 2461,\n",
              " 'New Delhi': 584,\n",
              " 'Arunachal Pradesh': 414,\n",
              " 'Mizoram': 69}"
            ]
          },
          "metadata": {},
          "execution_count": 44
        }
      ]
    },
    {
      "cell_type": "code",
      "source": [
        "for emission_state in emission_states:\n",
        "  print(f\"{emission_state} produces {emission_states[emission_state]} g CO2/kWh\")"
      ],
      "metadata": {
        "colab": {
          "base_uri": "https://localhost:8080/"
        },
        "id": "fddAVL0P0V7M",
        "outputId": "fc7743a8-27a4-4f52-af0b-57510dd34732"
      },
      "execution_count": null,
      "outputs": [
        {
          "output_type": "stream",
          "name": "stdout",
          "text": [
            "Gujarat produces 1708544 g CO2/kWh\n",
            "Maharashtra produces 1677090 g CO2/kWh\n",
            "Tamil Nadu produces 1412579 g CO2/kWh\n",
            "Chhattisgarh produces 1385957 g CO2/kWh\n",
            "Uttar Pradesh produces 1241741 g CO2/kWh\n",
            "West Bengal produces 1174670 g CO2/kWh\n",
            "Andhra Pradesh produces 1042440 g CO2/kWh\n",
            "Rajasthan produces 694887 g CO2/kWh\n",
            "Odisha produces 644791 g CO2/kWh\n",
            "Jharkhand produces 638437 g CO2/kWh\n",
            "Madhya Pradesh produces 635015 g CO2/kWh\n",
            "Karnataka produces 554670 g CO2/kWh\n",
            "Haryana produces 402960 g CO2/kWh\n",
            "Delhi produces 395952 g CO2/kWh\n",
            "Telangana produces 362870 g CO2/kWh\n",
            "Assam produces 328917 g CO2/kWh\n",
            "Punjab produces 318821 g CO2/kWh\n",
            "Bihar produces 283824 g CO2/kWh\n",
            "Kerala produces 281945 g CO2/kWh\n",
            "Tripura produces 245104 g CO2/kWh\n",
            "Jammu Kashmir produces 85396 g CO2/kWh\n",
            "Puducherry produces 62488 g CO2/kWh\n",
            "Manipur produces 62488 g CO2/kWh\n",
            "Andaman And Nicobar Islands produces 62488 g CO2/kWh\n",
            "Goa produces 62488 g CO2/kWh\n",
            "Uttarakhand produces 53017 g CO2/kWh\n",
            "Himachal Pradesh produces 40848 g CO2/kWh\n",
            "Meghalaya produces 10764 g CO2/kWh\n",
            "Sikkim produces 9476 g CO2/kWh\n",
            "Ladakh produces 2461 g CO2/kWh\n",
            "New Delhi produces 584 g CO2/kWh\n",
            "Arunachal Pradesh produces 414 g CO2/kWh\n",
            "Mizoram produces 69 g CO2/kWh\n"
          ]
        }
      ]
    },
    {
      "cell_type": "code",
      "source": [
        "fig = plt.figure(figsize=(10, 5))\n",
        "plt.bar(list(emission_states.keys()), list(emission_states.values()))\n",
        "plt.xlabel(\"State\")\n",
        "plt.ylabel(\"GHG Emission\")\n",
        "plt.xticks(rotation='vertical')"
      ],
      "metadata": {
        "colab": {
          "base_uri": "https://localhost:8080/"
        },
        "id": "HwgCMADG0O6w",
        "outputId": "89bd9db5-875a-45a7-d0fb-8d2f2f557749"
      },
      "execution_count": null,
      "outputs": [
        {
          "output_type": "execute_result",
          "data": {
            "text/plain": [
              "([0,\n",
              "  1,\n",
              "  2,\n",
              "  3,\n",
              "  4,\n",
              "  5,\n",
              "  6,\n",
              "  7,\n",
              "  8,\n",
              "  9,\n",
              "  10,\n",
              "  11,\n",
              "  12,\n",
              "  13,\n",
              "  14,\n",
              "  15,\n",
              "  16,\n",
              "  17,\n",
              "  18,\n",
              "  19,\n",
              "  20,\n",
              "  21,\n",
              "  22,\n",
              "  23,\n",
              "  24,\n",
              "  25,\n",
              "  26,\n",
              "  27,\n",
              "  28,\n",
              "  29,\n",
              "  30,\n",
              "  31,\n",
              "  32],\n",
              " [Text(0, 0, 'Gujarat'),\n",
              "  Text(1, 0, 'Maharashtra'),\n",
              "  Text(2, 0, 'Tamil Nadu'),\n",
              "  Text(3, 0, 'Chhattisgarh'),\n",
              "  Text(4, 0, 'Uttar Pradesh'),\n",
              "  Text(5, 0, 'West Bengal'),\n",
              "  Text(6, 0, 'Andhra Pradesh'),\n",
              "  Text(7, 0, 'Rajasthan'),\n",
              "  Text(8, 0, 'Odisha'),\n",
              "  Text(9, 0, 'Jharkhand'),\n",
              "  Text(10, 0, 'Madhya Pradesh'),\n",
              "  Text(11, 0, 'Karnataka'),\n",
              "  Text(12, 0, 'Haryana'),\n",
              "  Text(13, 0, 'Delhi'),\n",
              "  Text(14, 0, 'Telangana'),\n",
              "  Text(15, 0, 'Assam'),\n",
              "  Text(16, 0, 'Punjab'),\n",
              "  Text(17, 0, 'Bihar'),\n",
              "  Text(18, 0, 'Kerala'),\n",
              "  Text(19, 0, 'Tripura'),\n",
              "  Text(20, 0, 'Jammu Kashmir'),\n",
              "  Text(21, 0, 'Puducherry'),\n",
              "  Text(22, 0, 'Manipur'),\n",
              "  Text(23, 0, 'Andaman And Nicobar Islands'),\n",
              "  Text(24, 0, 'Goa'),\n",
              "  Text(25, 0, 'Uttarakhand'),\n",
              "  Text(26, 0, 'Himachal Pradesh'),\n",
              "  Text(27, 0, 'Meghalaya'),\n",
              "  Text(28, 0, 'Sikkim'),\n",
              "  Text(29, 0, 'Ladakh'),\n",
              "  Text(30, 0, 'New Delhi'),\n",
              "  Text(31, 0, 'Arunachal Pradesh'),\n",
              "  Text(32, 0, 'Mizoram')])"
            ]
          },
          "metadata": {},
          "execution_count": 46
        },
        {
          "output_type": "display_data",
          "data": {
            "text/plain": [
              "<Figure size 1000x500 with 1 Axes>"
            ],
            "image/png": "[encoded data removed]"
          },
          "metadata": {}
        }
      ]
    },
    {
      "cell_type": "markdown",
      "source": [
        "### Now let's see which source of energy is worse for the country and by how much"
      ],
      "metadata": {
        "id": "ATO0gXQL0qGU"
      }
    },
    {
      "cell_type": "code",
      "source": [
        "emission_plant = {plant: df.loc[df['Category of Plant'] == plant]['GHG Emission'].sum() for plant in plants}\n",
        "emission_plant"
      ],
      "metadata": {
        "colab": {
          "base_uri": "https://localhost:8080/"
        },
        "id": "Joeg5tcD0xHp",
        "outputId": "d374af4d-43a6-45e0-8414-eb12900ac56b"
      },
      "execution_count": null,
      "outputs": [
        {
          "output_type": "execute_result",
          "data": {
            "text/plain": [
              "{'THERMAL': 15433368, 'HYDRO': 447695, 'NUCLEAR': 3132}"
            ]
          },
          "metadata": {},
          "execution_count": 47
        }
      ]
    },
    {
      "cell_type": "code",
      "source": [
        "fig = plt.figure(figsize=(10, 5))\n",
        "plt.bar(list(emission_plant.keys()), list(emission_plant.values()))\n",
        "plt.xlabel(\"Plant\")\n",
        "plt.ylabel(\"GHG Emission\")"
      ],
      "metadata": {
        "colab": {
          "base_uri": "https://localhost:8080/"
        },
        "id": "l3tKnn_k06Pm",
        "outputId": "dc5b518a-d728-448f-c1b8-629047534341"
      },
      "execution_count": null,
      "outputs": [
        {
          "output_type": "execute_result",
          "data": {
            "text/plain": [
              "Text(0, 0.5, 'GHG Emission')"
            ]
          },
          "metadata": {},
          "execution_count": 48
        },
        {
          "output_type": "display_data",
          "data": {
            "text/plain": [
              "<Figure size 1000x500 with 1 Axes>"
            ],
            "image/png": "[encoded data removed]"
          },
          "metadata": {}
        }
      ]
    },
    {
      "cell_type": "code",
      "source": [
        "emission_plant['THERMAL'] / (emission_plant['THERMAL'] + emission_plant['HYDRO'] + emission_plant['NUCLEAR']) * 100"
      ],
      "metadata": {
        "colab": {
          "base_uri": "https://localhost:8080/"
        },
        "id": "A6GISMr41nwI",
        "outputId": "b451c6fd-3adb-4843-ab0b-f939ec1097ab"
      },
      "execution_count": null,
      "outputs": [
        {
          "output_type": "execute_result",
          "data": {
            "text/plain": [
              "97.16178880956825"
            ]
          },
          "metadata": {},
          "execution_count": 49
        }
      ]
    },
    {
      "cell_type": "markdown",
      "source": [
        "### Conclusion\n",
        "1. The top five states which produce the most pollution are Gujrat, Maharashtra, Tamil Nadu, Chattisgarh and Uttar Pradesh\n",
        "\n",
        "2. Clearly from the bar graph we can see that the production of energy from thermal plants creates a lot more pollution than the production of energy from hydro or nuclear sources. To be precise, it releases 97.16% of the total emissions released by energy production sources"
      ],
      "metadata": {
        "id": "y3ngWeHL1CF2"
      }
    }
  ]
}